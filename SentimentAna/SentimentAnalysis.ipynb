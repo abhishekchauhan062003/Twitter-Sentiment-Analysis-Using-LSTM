{
 "cells": [
  {
   "cell_type": "code",
   "execution_count": 1,
   "id": "9da2a2d0-06e8-4710-9b48-1c9419d2425a",
   "metadata": {},
   "outputs": [
    {
     "name": "stdout",
     "output_type": "stream",
     "text": [
      "WARNING:tensorflow:From C:\\Users\\abhic\\AppData\\Local\\Packages\\PythonSoftwareFoundation.Python.3.11_qbz5n2kfra8p0\\LocalCache\\local-packages\\Python311\\site-packages\\keras\\src\\losses.py:2976: The name tf.losses.sparse_softmax_cross_entropy is deprecated. Please use tf.compat.v1.losses.sparse_softmax_cross_entropy instead.\n",
      "\n"
     ]
    }
   ],
   "source": [
    "# DataFrame\n",
    "import pandas as pd\n",
    "\n",
    "# Matplot\n",
    "import matplotlib.pyplot as plt\n",
    "%matplotlib inline\n",
    "\n",
    "# Scikit-learn\n",
    "from sklearn.model_selection import train_test_split\n",
    "from sklearn.preprocessing import LabelEncoder\n",
    "from sklearn.metrics import confusion_matrix, classification_report, accuracy_score\n",
    "from sklearn.manifold import TSNE\n",
    "from sklearn.feature_extraction.text import TfidfVectorizer\n",
    "\n",
    "#gensim\n",
    "from gensim.parsing.preprocessing import remove_stopwords\n",
    "\n",
    "\n",
    "\n",
    "# Keras\n",
    "from keras.preprocessing.text import Tokenizer\n",
    "from keras.preprocessing.sequence import pad_sequences\n",
    "from keras.models import Sequential\n",
    "from keras.layers import Activation, Dense, Dropout, Embedding, Flatten, Conv1D, MaxPooling1D, LSTM\n",
    "from keras import utils\n",
    "from keras.callbacks import ReduceLROnPlateau, EarlyStopping\n",
    "\n",
    "# nltk\n",
    "import nltk\n",
    "from nltk.corpus import stopwords\n",
    "from  nltk.stem import SnowballStemmer\n",
    "\n",
    "# Word2vec\n",
    "import gensim\n",
    "\n",
    "# Utility\n",
    "import re\n",
    "import numpy as np\n",
    "import os\n",
    "from collections import Counter\n",
    "import logging\n",
    "import time\n",
    "import pickle\n",
    "import itertools\n",
    "\n",
    "# Set log\n",
    "logging.basicConfig(format='%(asctime)s : %(levelname)s : %(message)s', level=logging.INFO)"
   ]
  },
  {
   "cell_type": "code",
   "execution_count": 2,
   "id": "29d3071c-950c-474f-ac6d-0ecb5c0e5050",
   "metadata": {},
   "outputs": [],
   "source": [
    "df = pd.read_csv(\"Data/training.1600000.processed.noemoticon.csv\",encoding=\"ISO-8859-1\",names=[\"target\", \"ids\", \"date\", \"flag\", \"user\", \"text\"])"
   ]
  },
  {
   "cell_type": "code",
   "execution_count": 3,
   "id": "4c1d44a8-2f24-4c82-aa15-29c74b3497fe",
   "metadata": {
    "scrolled": true
   },
   "outputs": [
    {
     "data": {
      "text/html": [
       "<div>\n",
       "<style scoped>\n",
       "    .dataframe tbody tr th:only-of-type {\n",
       "        vertical-align: middle;\n",
       "    }\n",
       "\n",
       "    .dataframe tbody tr th {\n",
       "        vertical-align: top;\n",
       "    }\n",
       "\n",
       "    .dataframe thead th {\n",
       "        text-align: right;\n",
       "    }\n",
       "</style>\n",
       "<table border=\"1\" class=\"dataframe\">\n",
       "  <thead>\n",
       "    <tr style=\"text-align: right;\">\n",
       "      <th></th>\n",
       "      <th>target</th>\n",
       "      <th>ids</th>\n",
       "      <th>date</th>\n",
       "      <th>flag</th>\n",
       "      <th>user</th>\n",
       "      <th>text</th>\n",
       "    </tr>\n",
       "  </thead>\n",
       "  <tbody>\n",
       "    <tr>\n",
       "      <th>0</th>\n",
       "      <td>0</td>\n",
       "      <td>1467810369</td>\n",
       "      <td>Mon Apr 06 22:19:45 PDT 2009</td>\n",
       "      <td>NO_QUERY</td>\n",
       "      <td>_TheSpecialOne_</td>\n",
       "      <td>@switchfoot http://twitpic.com/2y1zl - Awww, t...</td>\n",
       "    </tr>\n",
       "    <tr>\n",
       "      <th>1</th>\n",
       "      <td>0</td>\n",
       "      <td>1467810672</td>\n",
       "      <td>Mon Apr 06 22:19:49 PDT 2009</td>\n",
       "      <td>NO_QUERY</td>\n",
       "      <td>scotthamilton</td>\n",
       "      <td>is upset that he can't update his Facebook by ...</td>\n",
       "    </tr>\n",
       "    <tr>\n",
       "      <th>2</th>\n",
       "      <td>0</td>\n",
       "      <td>1467810917</td>\n",
       "      <td>Mon Apr 06 22:19:53 PDT 2009</td>\n",
       "      <td>NO_QUERY</td>\n",
       "      <td>mattycus</td>\n",
       "      <td>@Kenichan I dived many times for the ball. Man...</td>\n",
       "    </tr>\n",
       "    <tr>\n",
       "      <th>3</th>\n",
       "      <td>0</td>\n",
       "      <td>1467811184</td>\n",
       "      <td>Mon Apr 06 22:19:57 PDT 2009</td>\n",
       "      <td>NO_QUERY</td>\n",
       "      <td>ElleCTF</td>\n",
       "      <td>my whole body feels itchy and like its on fire</td>\n",
       "    </tr>\n",
       "    <tr>\n",
       "      <th>4</th>\n",
       "      <td>0</td>\n",
       "      <td>1467811193</td>\n",
       "      <td>Mon Apr 06 22:19:57 PDT 2009</td>\n",
       "      <td>NO_QUERY</td>\n",
       "      <td>Karoli</td>\n",
       "      <td>@nationwideclass no, it's not behaving at all....</td>\n",
       "    </tr>\n",
       "  </tbody>\n",
       "</table>\n",
       "</div>"
      ],
      "text/plain": [
       "   target         ids                          date      flag  \\\n",
       "0       0  1467810369  Mon Apr 06 22:19:45 PDT 2009  NO_QUERY   \n",
       "1       0  1467810672  Mon Apr 06 22:19:49 PDT 2009  NO_QUERY   \n",
       "2       0  1467810917  Mon Apr 06 22:19:53 PDT 2009  NO_QUERY   \n",
       "3       0  1467811184  Mon Apr 06 22:19:57 PDT 2009  NO_QUERY   \n",
       "4       0  1467811193  Mon Apr 06 22:19:57 PDT 2009  NO_QUERY   \n",
       "\n",
       "              user                                               text  \n",
       "0  _TheSpecialOne_  @switchfoot http://twitpic.com/2y1zl - Awww, t...  \n",
       "1    scotthamilton  is upset that he can't update his Facebook by ...  \n",
       "2         mattycus  @Kenichan I dived many times for the ball. Man...  \n",
       "3          ElleCTF    my whole body feels itchy and like its on fire   \n",
       "4           Karoli  @nationwideclass no, it's not behaving at all....  "
      ]
     },
     "execution_count": 3,
     "metadata": {},
     "output_type": "execute_result"
    }
   ],
   "source": [
    "df.head()"
   ]
  },
  {
   "cell_type": "code",
   "execution_count": 4,
   "id": "cffa81d4-bf88-423e-b9d8-c2fcf9dfb0a9",
   "metadata": {},
   "outputs": [
    {
     "data": {
      "text/plain": [
       "1600000"
      ]
     },
     "execution_count": 4,
     "metadata": {},
     "output_type": "execute_result"
    }
   ],
   "source": [
    "len(df)"
   ]
  },
  {
   "cell_type": "code",
   "execution_count": 5,
   "id": "691a227b-cc1b-49ef-a385-dc0c5a44e1f7",
   "metadata": {},
   "outputs": [],
   "source": [
    "decode_map = {4:\"positive\",0:\"negative\",2:\"neutral\"}\n",
    "def decodesentiment(label):\n",
    "    return decode_map[int(label)]"
   ]
  },
  {
   "cell_type": "code",
   "execution_count": 6,
   "id": "556b992b-8f44-4cf4-9f34-a39e47965941",
   "metadata": {},
   "outputs": [
    {
     "name": "stdout",
     "output_type": "stream",
     "text": [
      "CPU times: total: 406 ms\n",
      "Wall time: 436 ms\n"
     ]
    }
   ],
   "source": [
    "%%time\n",
    "df.target = df.target.apply(lambda x : decodesentiment(x))"
   ]
  },
  {
   "cell_type": "code",
   "execution_count": 7,
   "id": "a0bfacae-cff7-4142-8ff1-cbd0d8b1036c",
   "metadata": {},
   "outputs": [
    {
     "data": {
      "text/plain": [
       "0          negative\n",
       "1          negative\n",
       "2          negative\n",
       "3          negative\n",
       "4          negative\n",
       "             ...   \n",
       "1599995    positive\n",
       "1599996    positive\n",
       "1599997    positive\n",
       "1599998    positive\n",
       "1599999    positive\n",
       "Name: target, Length: 1600000, dtype: object"
      ]
     },
     "execution_count": 7,
     "metadata": {},
     "output_type": "execute_result"
    }
   ],
   "source": [
    "df.target"
   ]
  },
  {
   "cell_type": "code",
   "execution_count": 8,
   "id": "dad24ff3-b97e-49a5-9dbe-2f4d461f42c3",
   "metadata": {},
   "outputs": [],
   "source": [
    "target_count = Counter(df.target)"
   ]
  },
  {
   "cell_type": "code",
   "execution_count": 9,
   "id": "f953d915-4da4-4ef2-b36e-88d2d429dd52",
   "metadata": {
    "scrolled": true
   },
   "outputs": [
    {
     "data": {
      "image/png": "[encoded data removed]",
      "text/plain": [
       "<Figure size 1600x800 with 1 Axes>"
      ]
     },
     "metadata": {},
     "output_type": "display_data"
    }
   ],
   "source": [
    "plt.figure(figsize=(16,8))\n",
    "plt.bar(target_count.keys(),target_count.values())\n",
    "plt.title(\"Data set labels distribution\")\n",
    "plt.show()"
   ]
  },
  {
   "cell_type": "code",
   "execution_count": 10,
   "id": "d20660c8-7b5b-4de7-be86-3fbe573bd235",
   "metadata": {},
   "outputs": [],
   "source": [
    "stemmer = SnowballStemmer(\"english\")"
   ]
  },
  {
   "cell_type": "code",
   "execution_count": 11,
   "id": "04246fcc-87f7-4115-8fd5-555c1808c0bd",
   "metadata": {},
   "outputs": [],
   "source": [
    "TEXT_CLEANING_RE = \"@\\S+|https?:\\S+|http?:\\S|[^A-Za-z0-9]+\"\n",
    "def preprocess(text,stem=False):\n",
    "    text=re.sub(TEXT_CLEANING_RE,' ',str(text).lower()).strip()\n",
    "    tokens=[]\n",
    "    text=remove_stopwords(text)\n",
    "    for token in text:\n",
    "        if stem:\n",
    "            tokens.append(stemmer.stem(token))\n",
    "        else:\n",
    "            tokens.append(token)\n",
    "    return \"\".join(tokens)"
   ]
  },
  {
   "cell_type": "code",
   "execution_count": 12,
   "id": "9b31f99e-84ee-4e81-ab3c-e449d660f9d1",
   "metadata": {},
   "outputs": [
    {
     "name": "stdout",
     "output_type": "stream",
     "text": [
      "CPU times: total: 59.3 s\n",
      "Wall time: 1min 24s\n"
     ]
    }
   ],
   "source": [
    "%%time\n",
    "df.text=df.text.apply(lambda x : preprocess(x))"
   ]
  },
  {
   "cell_type": "code",
   "execution_count": 13,
   "id": "38f5d2cb-92ee-4a60-8c2a-e800a9d621a6",
   "metadata": {
    "scrolled": true
   },
   "outputs": [
    {
     "data": {
      "text/plain": [
       "0                 awww s bummer shoulda got david carr day d\n",
       "1          upset t update facebook texting result school ...\n",
       "2               dived times ball managed save 50 rest bounds\n",
       "3                                      body feels itchy like\n",
       "4                                         s behaving m mad t\n",
       "                                 ...                        \n",
       "1599995                      woke having school best feeling\n",
       "1599996             thewdb com cool hear old walt interviews\n",
       "1599997                      ready mojo makeover ask details\n",
       "1599998    happy 38th birthday boo alll time tupac amaru ...\n",
       "1599999    happy charitytuesday thenspcc sparkscharity sp...\n",
       "Name: text, Length: 1600000, dtype: object"
      ]
     },
     "execution_count": 13,
     "metadata": {},
     "output_type": "execute_result"
    }
   ],
   "source": [
    "df.text"
   ]
  },
  {
   "cell_type": "code",
   "execution_count": 14,
   "id": "1c6c08ae-5b06-46c1-84f2-bf662bfd92c1",
   "metadata": {},
   "outputs": [
    {
     "name": "stdout",
     "output_type": "stream",
     "text": [
      "Train Size 1280000\n",
      "Test Size 320000\n"
     ]
    }
   ],
   "source": [
    "df_train,df_test=train_test_split(df,test_size=0.2,random_state=42)\n",
    "print(\"Train Size\",len(df_train))\n",
    "print(\"Test Size\",len(df_test))"
   ]
  },
  {
   "cell_type": "code",
   "execution_count": 15,
   "id": "ef639307-ca78-4d9c-9881-069b6b2cd132",
   "metadata": {},
   "outputs": [
    {
     "name": "stdout",
     "output_type": "stream",
     "text": [
      "CPU times: total: 2.83 s\n",
      "Wall time: 4.15 s\n"
     ]
    }
   ],
   "source": [
    "%%time\n",
    "documents = [x.split() for x in df_train.text]"
   ]
  },
  {
   "cell_type": "code",
   "execution_count": 16,
   "id": "da09fe63-3b71-4d72-8ad0-aa0b0bd040ee",
   "metadata": {},
   "outputs": [
    {
     "name": "stderr",
     "output_type": "stream",
     "text": [
      "2023-12-09 17:29:28,423 : INFO : Word2Vec lifecycle event {'params': 'Word2Vec<vocab=0, vector_size=300, alpha=0.025>', 'datetime': '2023-12-09T17:29:28.422117', 'gensim': '4.3.2', 'python': '3.11.6 (tags/v3.11.6:8b6ee5b, Oct  2 2023, 14:57:12) [MSC v.1935 64 bit (AMD64)]', 'platform': 'Windows-10-10.0.22631-SP0', 'event': 'created'}\n"
     ]
    }
   ],
   "source": [
    "w2v_model = gensim.models.word2vec.Word2Vec(vector_size=300,window=7,min_count=10,workers=8)"
   ]
  },
  {
   "cell_type": "code",
   "execution_count": 17,
   "id": "26f99dec-5c9d-46f3-b684-324608b8f4ab",
   "metadata": {
    "scrolled": true
   },
   "outputs": [
    {
     "name": "stderr",
     "output_type": "stream",
     "text": [
      "2023-12-09 17:29:28,438 : INFO : collecting all words and their counts\n",
      "2023-12-09 17:29:28,441 : INFO : PROGRESS: at sentence #0, processed 0 words, keeping 0 word types\n",
      "2023-12-09 17:29:28,490 : INFO : PROGRESS: at sentence #10000, processed 68563 words, keeping 13862 word types\n",
      "2023-12-09 17:29:28,518 : INFO : PROGRESS: at sentence #20000, processed 136480 words, keeping 21432 word types\n",
      "2023-12-09 17:29:28,544 : INFO : PROGRESS: at sentence #30000, processed 203915 words, keeping 27383 word types\n",
      "2023-12-09 17:29:28,566 : INFO : PROGRESS: at sentence #40000, processed 272195 words, keeping 32604 word types\n",
      "2023-12-09 17:29:28,592 : INFO : PROGRESS: at sentence #50000, processed 339920 words, keeping 37427 word types\n",
      "2023-12-09 17:29:28,621 : INFO : PROGRESS: at sentence #60000, processed 407425 words, keeping 42036 word types\n",
      "2023-12-09 17:29:28,657 : INFO : PROGRESS: at sentence #70000, processed 474949 words, keeping 46296 word types\n",
      "2023-12-09 17:29:28,688 : INFO : PROGRESS: at sentence #80000, processed 543545 words, keeping 50309 word types\n",
      "2023-12-09 17:29:28,721 : INFO : PROGRESS: at sentence #90000, processed 610969 words, keeping 53973 word types\n",
      "2023-12-09 17:29:28,755 : INFO : PROGRESS: at sentence #100000, processed 678636 words, keeping 57608 word types\n",
      "2023-12-09 17:29:28,833 : INFO : PROGRESS: at sentence #110000, processed 746617 words, keeping 61038 word types\n",
      "2023-12-09 17:29:28,857 : INFO : PROGRESS: at sentence #120000, processed 815011 words, keeping 64413 word types\n",
      "2023-12-09 17:29:28,880 : INFO : PROGRESS: at sentence #130000, processed 882935 words, keeping 67694 word types\n",
      "2023-12-09 17:29:28,913 : INFO : PROGRESS: at sentence #140000, processed 950553 words, keeping 70793 word types\n",
      "2023-12-09 17:29:28,941 : INFO : PROGRESS: at sentence #150000, processed 1018422 words, keeping 73946 word types\n",
      "2023-12-09 17:29:28,972 : INFO : PROGRESS: at sentence #160000, processed 1085754 words, keeping 77014 word types\n",
      "2023-12-09 17:29:28,999 : INFO : PROGRESS: at sentence #170000, processed 1154035 words, keeping 80094 word types\n",
      "2023-12-09 17:29:29,027 : INFO : PROGRESS: at sentence #180000, processed 1222495 words, keeping 83219 word types\n",
      "2023-12-09 17:29:29,055 : INFO : PROGRESS: at sentence #190000, processed 1291116 words, keeping 86156 word types\n",
      "2023-12-09 17:29:29,108 : INFO : PROGRESS: at sentence #200000, processed 1358677 words, keeping 88930 word types\n",
      "2023-12-09 17:29:29,138 : INFO : PROGRESS: at sentence #210000, processed 1426989 words, keeping 91667 word types\n",
      "2023-12-09 17:29:29,172 : INFO : PROGRESS: at sentence #220000, processed 1495054 words, keeping 94463 word types\n",
      "2023-12-09 17:29:29,199 : INFO : PROGRESS: at sentence #230000, processed 1563254 words, keeping 97180 word types\n",
      "2023-12-09 17:29:29,225 : INFO : PROGRESS: at sentence #240000, processed 1631395 words, keeping 99802 word types\n",
      "2023-12-09 17:29:29,253 : INFO : PROGRESS: at sentence #250000, processed 1699868 words, keeping 102421 word types\n",
      "2023-12-09 17:29:29,274 : INFO : PROGRESS: at sentence #260000, processed 1767799 words, keeping 104989 word types\n",
      "2023-12-09 17:29:29,295 : INFO : PROGRESS: at sentence #270000, processed 1835822 words, keeping 107452 word types\n",
      "2023-12-09 17:29:29,318 : INFO : PROGRESS: at sentence #280000, processed 1903779 words, keeping 109967 word types\n",
      "2023-12-09 17:29:29,341 : INFO : PROGRESS: at sentence #290000, processed 1972039 words, keeping 112365 word types\n",
      "2023-12-09 17:29:29,363 : INFO : PROGRESS: at sentence #300000, processed 2039345 words, keeping 114719 word types\n",
      "2023-12-09 17:29:29,388 : INFO : PROGRESS: at sentence #310000, processed 2107261 words, keeping 117124 word types\n",
      "2023-12-09 17:29:29,409 : INFO : PROGRESS: at sentence #320000, processed 2175235 words, keeping 119519 word types\n",
      "2023-12-09 17:29:29,432 : INFO : PROGRESS: at sentence #330000, processed 2243302 words, keeping 121957 word types\n",
      "2023-12-09 17:29:29,457 : INFO : PROGRESS: at sentence #340000, processed 2311332 words, keeping 124242 word types\n",
      "2023-12-09 17:29:29,481 : INFO : PROGRESS: at sentence #350000, processed 2379607 words, keeping 126495 word types\n",
      "2023-12-09 17:29:29,510 : INFO : PROGRESS: at sentence #360000, processed 2447678 words, keeping 128738 word types\n",
      "2023-12-09 17:29:29,537 : INFO : PROGRESS: at sentence #370000, processed 2515460 words, keeping 130961 word types\n",
      "2023-12-09 17:29:29,576 : INFO : PROGRESS: at sentence #380000, processed 2583568 words, keeping 133229 word types\n",
      "2023-12-09 17:29:29,597 : INFO : PROGRESS: at sentence #390000, processed 2651712 words, keeping 135377 word types\n",
      "2023-12-09 17:29:29,617 : INFO : PROGRESS: at sentence #400000, processed 2720148 words, keeping 137568 word types\n",
      "2023-12-09 17:29:29,642 : INFO : PROGRESS: at sentence #410000, processed 2787862 words, keeping 139735 word types\n",
      "2023-12-09 17:29:29,665 : INFO : PROGRESS: at sentence #420000, processed 2855803 words, keeping 141970 word types\n",
      "2023-12-09 17:29:29,687 : INFO : PROGRESS: at sentence #430000, processed 2924187 words, keeping 144190 word types\n",
      "2023-12-09 17:29:29,716 : INFO : PROGRESS: at sentence #440000, processed 2992207 words, keeping 146265 word types\n",
      "2023-12-09 17:29:29,738 : INFO : PROGRESS: at sentence #450000, processed 3060964 words, keeping 148352 word types\n",
      "2023-12-09 17:29:29,763 : INFO : PROGRESS: at sentence #460000, processed 3129005 words, keeping 150436 word types\n",
      "2023-12-09 17:29:29,789 : INFO : PROGRESS: at sentence #470000, processed 3197831 words, keeping 152564 word types\n",
      "2023-12-09 17:29:29,816 : INFO : PROGRESS: at sentence #480000, processed 3265592 words, keeping 154584 word types\n",
      "2023-12-09 17:29:29,845 : INFO : PROGRESS: at sentence #490000, processed 3333255 words, keeping 156652 word types\n",
      "2023-12-09 17:29:29,873 : INFO : PROGRESS: at sentence #500000, processed 3401453 words, keeping 158686 word types\n",
      "2023-12-09 17:29:29,900 : INFO : PROGRESS: at sentence #510000, processed 3469669 words, keeping 160679 word types\n",
      "2023-12-09 17:29:29,938 : INFO : PROGRESS: at sentence #520000, processed 3538222 words, keeping 162689 word types\n",
      "2023-12-09 17:29:29,973 : INFO : PROGRESS: at sentence #530000, processed 3606631 words, keeping 164755 word types\n",
      "2023-12-09 17:29:29,997 : INFO : PROGRESS: at sentence #540000, processed 3674582 words, keeping 166666 word types\n",
      "2023-12-09 17:29:30,038 : INFO : PROGRESS: at sentence #550000, processed 3742274 words, keeping 168625 word types\n",
      "2023-12-09 17:29:30,065 : INFO : PROGRESS: at sentence #560000, processed 3810673 words, keeping 170628 word types\n",
      "2023-12-09 17:29:30,086 : INFO : PROGRESS: at sentence #570000, processed 3878804 words, keeping 172586 word types\n",
      "2023-12-09 17:29:30,113 : INFO : PROGRESS: at sentence #580000, processed 3946825 words, keeping 174461 word types\n",
      "2023-12-09 17:29:30,148 : INFO : PROGRESS: at sentence #590000, processed 4014892 words, keeping 176296 word types\n",
      "2023-12-09 17:29:30,170 : INFO : PROGRESS: at sentence #600000, processed 4083065 words, keeping 178176 word types\n",
      "2023-12-09 17:29:30,190 : INFO : PROGRESS: at sentence #610000, processed 4151464 words, keeping 180116 word types\n",
      "2023-12-09 17:29:30,214 : INFO : PROGRESS: at sentence #620000, processed 4219371 words, keeping 181954 word types\n",
      "2023-12-09 17:29:30,237 : INFO : PROGRESS: at sentence #630000, processed 4287266 words, keeping 183830 word types\n",
      "2023-12-09 17:29:30,261 : INFO : PROGRESS: at sentence #640000, processed 4355934 words, keeping 185660 word types\n",
      "2023-12-09 17:29:30,282 : INFO : PROGRESS: at sentence #650000, processed 4424610 words, keeping 187530 word types\n",
      "2023-12-09 17:29:30,303 : INFO : PROGRESS: at sentence #660000, processed 4492481 words, keeping 189264 word types\n",
      "2023-12-09 17:29:30,330 : INFO : PROGRESS: at sentence #670000, processed 4561079 words, keeping 191057 word types\n",
      "2023-12-09 17:29:30,355 : INFO : PROGRESS: at sentence #680000, processed 4628709 words, keeping 193002 word types\n",
      "2023-12-09 17:29:30,389 : INFO : PROGRESS: at sentence #690000, processed 4697001 words, keeping 194785 word types\n",
      "2023-12-09 17:29:30,422 : INFO : PROGRESS: at sentence #700000, processed 4765466 words, keeping 196550 word types\n",
      "2023-12-09 17:29:30,462 : INFO : PROGRESS: at sentence #710000, processed 4833938 words, keeping 198341 word types\n",
      "2023-12-09 17:29:30,496 : INFO : PROGRESS: at sentence #720000, processed 4901621 words, keeping 200149 word types\n",
      "2023-12-09 17:29:30,523 : INFO : PROGRESS: at sentence #730000, processed 4969231 words, keeping 201957 word types\n",
      "2023-12-09 17:29:30,550 : INFO : PROGRESS: at sentence #740000, processed 5037215 words, keeping 203642 word types\n",
      "2023-12-09 17:29:30,575 : INFO : PROGRESS: at sentence #750000, processed 5104962 words, keeping 205359 word types\n",
      "2023-12-09 17:29:30,596 : INFO : PROGRESS: at sentence #760000, processed 5172959 words, keeping 207106 word types\n",
      "2023-12-09 17:29:30,621 : INFO : PROGRESS: at sentence #770000, processed 5241491 words, keeping 208900 word types\n",
      "2023-12-09 17:29:30,648 : INFO : PROGRESS: at sentence #780000, processed 5308784 words, keeping 210629 word types\n",
      "2023-12-09 17:29:30,674 : INFO : PROGRESS: at sentence #790000, processed 5377497 words, keeping 212442 word types\n",
      "2023-12-09 17:29:30,704 : INFO : PROGRESS: at sentence #800000, processed 5446060 words, keeping 214198 word types\n",
      "2023-12-09 17:29:30,738 : INFO : PROGRESS: at sentence #810000, processed 5514654 words, keeping 215833 word types\n",
      "2023-12-09 17:29:30,774 : INFO : PROGRESS: at sentence #820000, processed 5582651 words, keeping 217628 word types\n",
      "2023-12-09 17:29:30,802 : INFO : PROGRESS: at sentence #830000, processed 5650635 words, keeping 219409 word types\n",
      "2023-12-09 17:29:30,829 : INFO : PROGRESS: at sentence #840000, processed 5718054 words, keeping 221168 word types\n",
      "2023-12-09 17:29:30,858 : INFO : PROGRESS: at sentence #850000, processed 5786142 words, keeping 222826 word types\n",
      "2023-12-09 17:29:30,881 : INFO : PROGRESS: at sentence #860000, processed 5853838 words, keeping 224467 word types\n",
      "2023-12-09 17:29:30,904 : INFO : PROGRESS: at sentence #870000, processed 5922290 words, keeping 226186 word types\n",
      "2023-12-09 17:29:30,928 : INFO : PROGRESS: at sentence #880000, processed 5990383 words, keeping 227810 word types\n",
      "2023-12-09 17:29:30,952 : INFO : PROGRESS: at sentence #890000, processed 6058362 words, keeping 229458 word types\n",
      "2023-12-09 17:29:30,979 : INFO : PROGRESS: at sentence #900000, processed 6126176 words, keeping 231213 word types\n",
      "2023-12-09 17:29:31,013 : INFO : PROGRESS: at sentence #910000, processed 6194539 words, keeping 232874 word types\n",
      "2023-12-09 17:29:31,037 : INFO : PROGRESS: at sentence #920000, processed 6262428 words, keeping 234509 word types\n",
      "2023-12-09 17:29:31,060 : INFO : PROGRESS: at sentence #930000, processed 6330528 words, keeping 236216 word types\n",
      "2023-12-09 17:29:31,084 : INFO : PROGRESS: at sentence #940000, processed 6398172 words, keeping 237875 word types\n",
      "2023-12-09 17:29:31,107 : INFO : PROGRESS: at sentence #950000, processed 6466573 words, keeping 239539 word types\n",
      "2023-12-09 17:29:31,133 : INFO : PROGRESS: at sentence #960000, processed 6534487 words, keeping 241177 word types\n",
      "2023-12-09 17:29:31,156 : INFO : PROGRESS: at sentence #970000, processed 6602581 words, keeping 242803 word types\n",
      "2023-12-09 17:29:31,187 : INFO : PROGRESS: at sentence #980000, processed 6669966 words, keeping 244469 word types\n",
      "2023-12-09 17:29:31,218 : INFO : PROGRESS: at sentence #990000, processed 6737792 words, keeping 246009 word types\n",
      "2023-12-09 17:29:31,285 : INFO : PROGRESS: at sentence #1000000, processed 6805187 words, keeping 247549 word types\n",
      "2023-12-09 17:29:31,319 : INFO : PROGRESS: at sentence #1010000, processed 6872639 words, keeping 249111 word types\n",
      "2023-12-09 17:29:31,345 : INFO : PROGRESS: at sentence #1020000, processed 6940611 words, keeping 250683 word types\n",
      "2023-12-09 17:29:31,367 : INFO : PROGRESS: at sentence #1030000, processed 7008414 words, keeping 252188 word types\n",
      "2023-12-09 17:29:31,389 : INFO : PROGRESS: at sentence #1040000, processed 7076285 words, keeping 253752 word types\n",
      "2023-12-09 17:29:31,411 : INFO : PROGRESS: at sentence #1050000, processed 7143876 words, keeping 255293 word types\n",
      "2023-12-09 17:29:31,439 : INFO : PROGRESS: at sentence #1060000, processed 7212612 words, keeping 256857 word types\n",
      "2023-12-09 17:29:31,469 : INFO : PROGRESS: at sentence #1070000, processed 7280020 words, keeping 258331 word types\n",
      "2023-12-09 17:29:31,495 : INFO : PROGRESS: at sentence #1080000, processed 7348562 words, keeping 259893 word types\n",
      "2023-12-09 17:29:31,518 : INFO : PROGRESS: at sentence #1090000, processed 7416523 words, keeping 261505 word types\n",
      "2023-12-09 17:29:31,547 : INFO : PROGRESS: at sentence #1100000, processed 7484999 words, keeping 263100 word types\n",
      "2023-12-09 17:29:31,568 : INFO : PROGRESS: at sentence #1110000, processed 7553096 words, keeping 264622 word types\n",
      "2023-12-09 17:29:31,587 : INFO : PROGRESS: at sentence #1120000, processed 7620766 words, keeping 266131 word types\n",
      "2023-12-09 17:29:31,619 : INFO : PROGRESS: at sentence #1130000, processed 7689125 words, keeping 267648 word types\n",
      "2023-12-09 17:29:31,635 : INFO : PROGRESS: at sentence #1140000, processed 7757330 words, keeping 269213 word types\n",
      "2023-12-09 17:29:31,660 : INFO : PROGRESS: at sentence #1150000, processed 7825269 words, keeping 270716 word types\n",
      "2023-12-09 17:29:31,684 : INFO : PROGRESS: at sentence #1160000, processed 7892377 words, keeping 272222 word types\n",
      "2023-12-09 17:29:31,709 : INFO : PROGRESS: at sentence #1170000, processed 7960022 words, keeping 273792 word types\n",
      "2023-12-09 17:29:31,736 : INFO : PROGRESS: at sentence #1180000, processed 8028470 words, keeping 275343 word types\n",
      "2023-12-09 17:29:31,763 : INFO : PROGRESS: at sentence #1190000, processed 8095577 words, keeping 276829 word types\n",
      "2023-12-09 17:29:31,782 : INFO : PROGRESS: at sentence #1200000, processed 8163207 words, keeping 278279 word types\n",
      "2023-12-09 17:29:31,811 : INFO : PROGRESS: at sentence #1210000, processed 8230310 words, keeping 279781 word types\n",
      "2023-12-09 17:29:31,833 : INFO : PROGRESS: at sentence #1220000, processed 8298243 words, keeping 281249 word types\n",
      "2023-12-09 17:29:31,863 : INFO : PROGRESS: at sentence #1230000, processed 8366138 words, keeping 282803 word types\n",
      "2023-12-09 17:29:31,888 : INFO : PROGRESS: at sentence #1240000, processed 8434390 words, keeping 284364 word types\n",
      "2023-12-09 17:29:31,909 : INFO : PROGRESS: at sentence #1250000, processed 8502891 words, keeping 285886 word types\n",
      "2023-12-09 17:29:31,935 : INFO : PROGRESS: at sentence #1260000, processed 8571437 words, keeping 287343 word types\n",
      "2023-12-09 17:29:31,963 : INFO : PROGRESS: at sentence #1270000, processed 8639889 words, keeping 288809 word types\n",
      "2023-12-09 17:29:31,990 : INFO : collected 290239 word types from a corpus of 8707674 raw words and 1280000 sentences\n",
      "2023-12-09 17:29:31,990 : INFO : Creating a fresh vocabulary\n",
      "2023-12-09 17:29:32,174 : INFO : Word2Vec lifecycle event {'msg': 'effective_min_count=10 retains 30199 unique words (10.40% of original 290239, drops 260040)', 'datetime': '2023-12-09T17:29:32.174899', 'gensim': '4.3.2', 'python': '3.11.6 (tags/v3.11.6:8b6ee5b, Oct  2 2023, 14:57:12) [MSC v.1935 64 bit (AMD64)]', 'platform': 'Windows-10-10.0.22631-SP0', 'event': 'prepare_vocab'}\n",
      "2023-12-09 17:29:32,174 : INFO : Word2Vec lifecycle event {'msg': 'effective_min_count=10 leaves 8261237 word corpus (94.87% of original 8707674, drops 446437)', 'datetime': '2023-12-09T17:29:32.174899', 'gensim': '4.3.2', 'python': '3.11.6 (tags/v3.11.6:8b6ee5b, Oct  2 2023, 14:57:12) [MSC v.1935 64 bit (AMD64)]', 'platform': 'Windows-10-10.0.22631-SP0', 'event': 'prepare_vocab'}\n",
      "2023-12-09 17:29:32,336 : INFO : deleting the raw counts dictionary of 290239 items\n",
      "2023-12-09 17:29:32,352 : INFO : sample=0.001 downsamples 44 most-common words\n",
      "2023-12-09 17:29:32,359 : INFO : Word2Vec lifecycle event {'msg': 'downsampling leaves estimated 7513685.5067883 word corpus (91.0%% of prior 8261237)', 'datetime': '2023-12-09T17:29:32.359473', 'gensim': '4.3.2', 'python': '3.11.6 (tags/v3.11.6:8b6ee5b, Oct  2 2023, 14:57:12) [MSC v.1935 64 bit (AMD64)]', 'platform': 'Windows-10-10.0.22631-SP0', 'event': 'prepare_vocab'}\n",
      "2023-12-09 17:29:32,650 : INFO : estimated required memory for 30199 words and 300 dimensions: 87577100 bytes\n",
      "2023-12-09 17:29:32,650 : INFO : resetting layer weights\n",
      "2023-12-09 17:29:32,728 : INFO : Word2Vec lifecycle event {'update': False, 'trim_rule': 'None', 'datetime': '2023-12-09T17:29:32.728887', 'gensim': '4.3.2', 'python': '3.11.6 (tags/v3.11.6:8b6ee5b, Oct  2 2023, 14:57:12) [MSC v.1935 64 bit (AMD64)]', 'platform': 'Windows-10-10.0.22631-SP0', 'event': 'build_vocab'}\n"
     ]
    }
   ],
   "source": [
    "w2v_model.build_vocab(documents)"
   ]
  },
  {
   "cell_type": "code",
   "execution_count": 18,
   "id": "f2f342e9-90e3-44f4-b0a2-57da5e3b8f79",
   "metadata": {},
   "outputs": [
    {
     "name": "stdout",
     "output_type": "stream",
     "text": [
      "Vocab size 30199\n"
     ]
    }
   ],
   "source": [
    "words = list(w2v_model.wv.index_to_key)\n",
    "vocab_size=len(words)\n",
    "print(\"Vocab size\",vocab_size)"
   ]
  },
  {
   "cell_type": "code",
   "execution_count": 19,
   "id": "4efc012c-1e2d-4169-aa59-4489104f4042",
   "metadata": {
    "scrolled": true
   },
   "outputs": [
    {
     "name": "stderr",
     "output_type": "stream",
     "text": [
      "2023-12-09 17:29:32,753 : INFO : Word2Vec lifecycle event {'msg': 'training model with 8 workers on 30199 vocabulary and 300 features, using sg=0 hs=0 sample=0.001 negative=5 window=7 shrink_windows=True', 'datetime': '2023-12-09T17:29:32.753209', 'gensim': '4.3.2', 'python': '3.11.6 (tags/v3.11.6:8b6ee5b, Oct  2 2023, 14:57:12) [MSC v.1935 64 bit (AMD64)]', 'platform': 'Windows-10-10.0.22631-SP0', 'event': 'train'}\n",
      "2023-12-09 17:29:33,826 : INFO : EPOCH 0 - PROGRESS: at 9.77% examples, 715315 words/s, in_qsize 14, out_qsize 1\n",
      "2023-12-09 17:29:34,839 : INFO : EPOCH 0 - PROGRESS: at 19.30% examples, 710826 words/s, in_qsize 15, out_qsize 0\n",
      "2023-12-09 17:29:35,837 : INFO : EPOCH 0 - PROGRESS: at 29.86% examples, 737921 words/s, in_qsize 15, out_qsize 0\n",
      "2023-12-09 17:29:36,846 : INFO : EPOCH 0 - PROGRESS: at 39.83% examples, 739343 words/s, in_qsize 15, out_qsize 0\n",
      "2023-12-09 17:29:37,873 : INFO : EPOCH 0 - PROGRESS: at 48.54% examples, 719381 words/s, in_qsize 13, out_qsize 2\n",
      "2023-12-09 17:29:38,878 : INFO : EPOCH 0 - PROGRESS: at 57.13% examples, 706887 words/s, in_qsize 15, out_qsize 0\n",
      "2023-12-09 17:29:39,895 : INFO : EPOCH 0 - PROGRESS: at 65.74% examples, 696666 words/s, in_qsize 14, out_qsize 1\n",
      "2023-12-09 17:29:40,932 : INFO : EPOCH 0 - PROGRESS: at 75.38% examples, 696912 words/s, in_qsize 15, out_qsize 0\n",
      "2023-12-09 17:29:41,945 : INFO : EPOCH 0 - PROGRESS: at 85.27% examples, 700895 words/s, in_qsize 13, out_qsize 2\n",
      "2023-12-09 17:29:42,946 : INFO : EPOCH 0 - PROGRESS: at 94.37% examples, 698863 words/s, in_qsize 13, out_qsize 2\n",
      "2023-12-09 17:29:43,529 : INFO : EPOCH 0: training on 8707674 raw words (7513344 effective words) took 10.7s, 700339 effective words/s\n",
      "2023-12-09 17:29:44,597 : INFO : EPOCH 1 - PROGRESS: at 7.59% examples, 564742 words/s, in_qsize 14, out_qsize 1\n",
      "2023-12-09 17:29:45,607 : INFO : EPOCH 1 - PROGRESS: at 15.75% examples, 585267 words/s, in_qsize 16, out_qsize 0\n",
      "2023-12-09 17:29:46,639 : INFO : EPOCH 1 - PROGRESS: at 25.74% examples, 633404 words/s, in_qsize 15, out_qsize 0\n",
      "2023-12-09 17:29:47,663 : INFO : EPOCH 1 - PROGRESS: at 35.24% examples, 649881 words/s, in_qsize 15, out_qsize 0\n",
      "2023-12-09 17:29:48,666 : INFO : EPOCH 1 - PROGRESS: at 45.45% examples, 672712 words/s, in_qsize 14, out_qsize 1\n",
      "2023-12-09 17:29:49,683 : INFO : EPOCH 1 - PROGRESS: at 55.17% examples, 680818 words/s, in_qsize 15, out_qsize 0\n",
      "2023-12-09 17:29:50,686 : INFO : EPOCH 1 - PROGRESS: at 63.09% examples, 668514 words/s, in_qsize 14, out_qsize 1\n",
      "2023-12-09 17:29:51,719 : INFO : EPOCH 1 - PROGRESS: at 71.93% examples, 665227 words/s, in_qsize 16, out_qsize 1\n",
      "2023-12-09 17:29:52,742 : INFO : EPOCH 1 - PROGRESS: at 82.30% examples, 675647 words/s, in_qsize 13, out_qsize 2\n",
      "2023-12-09 17:29:53,751 : INFO : EPOCH 1 - PROGRESS: at 92.63% examples, 684904 words/s, in_qsize 16, out_qsize 2\n",
      "2023-12-09 17:29:54,429 : INFO : EPOCH 1: training on 8707674 raw words (7512870 effective words) took 10.8s, 693019 effective words/s\n",
      "2023-12-09 17:29:55,464 : INFO : EPOCH 2 - PROGRESS: at 9.66% examples, 716708 words/s, in_qsize 12, out_qsize 3\n",
      "2023-12-09 17:29:56,469 : INFO : EPOCH 2 - PROGRESS: at 19.76% examples, 735779 words/s, in_qsize 15, out_qsize 0\n",
      "2023-12-09 17:29:57,512 : INFO : EPOCH 2 - PROGRESS: at 30.32% examples, 744559 words/s, in_qsize 16, out_qsize 0\n",
      "2023-12-09 17:29:58,542 : INFO : EPOCH 2 - PROGRESS: at 40.17% examples, 738445 words/s, in_qsize 15, out_qsize 0\n",
      "2023-12-09 17:29:59,565 : INFO : EPOCH 2 - PROGRESS: at 49.46% examples, 727453 words/s, in_qsize 16, out_qsize 0\n",
      "2023-12-09 17:30:00,573 : INFO : EPOCH 2 - PROGRESS: at 58.28% examples, 716172 words/s, in_qsize 13, out_qsize 2\n",
      "2023-12-09 17:30:01,573 : INFO : EPOCH 2 - PROGRESS: at 67.68% examples, 714832 words/s, in_qsize 15, out_qsize 0\n",
      "2023-12-09 17:30:02,586 : INFO : EPOCH 2 - PROGRESS: at 77.34% examples, 714930 words/s, in_qsize 13, out_qsize 2\n",
      "2023-12-09 17:30:03,617 : INFO : EPOCH 2 - PROGRESS: at 84.59% examples, 693796 words/s, in_qsize 14, out_qsize 1\n",
      "2023-12-09 17:30:04,642 : INFO : EPOCH 2 - PROGRESS: at 92.51% examples, 682379 words/s, in_qsize 16, out_qsize 0\n",
      "2023-12-09 17:30:05,595 : INFO : EPOCH 2: training on 8707674 raw words (7514090 effective words) took 11.1s, 674444 effective words/s\n",
      "2023-12-09 17:30:06,641 : INFO : EPOCH 3 - PROGRESS: at 8.05% examples, 595745 words/s, in_qsize 16, out_qsize 0\n",
      "2023-12-09 17:30:07,665 : INFO : EPOCH 3 - PROGRESS: at 16.89% examples, 621796 words/s, in_qsize 15, out_qsize 0\n",
      "2023-12-09 17:30:08,690 : INFO : EPOCH 3 - PROGRESS: at 24.93% examples, 610833 words/s, in_qsize 16, out_qsize 0\n",
      "2023-12-09 17:30:09,691 : INFO : EPOCH 3 - PROGRESS: at 35.13% examples, 649295 words/s, in_qsize 15, out_qsize 0\n",
      "2023-12-09 17:30:10,700 : INFO : EPOCH 3 - PROGRESS: at 44.87% examples, 664674 words/s, in_qsize 15, out_qsize 0\n",
      "2023-12-09 17:30:11,716 : INFO : EPOCH 3 - PROGRESS: at 53.81% examples, 664347 words/s, in_qsize 16, out_qsize 1\n",
      "2023-12-09 17:30:12,716 : INFO : EPOCH 3 - PROGRESS: at 62.63% examples, 664336 words/s, in_qsize 14, out_qsize 1\n",
      "2023-12-09 17:30:13,727 : INFO : EPOCH 3 - PROGRESS: at 73.08% examples, 678259 words/s, in_qsize 16, out_qsize 0\n",
      "2023-12-09 17:30:14,731 : INFO : EPOCH 3 - PROGRESS: at 84.02% examples, 693431 words/s, in_qsize 16, out_qsize 0\n",
      "2023-12-09 17:30:15,791 : INFO : EPOCH 3 - PROGRESS: at 94.60% examples, 699173 words/s, in_qsize 16, out_qsize 0\n",
      "2023-12-09 17:30:16,248 : INFO : EPOCH 3: training on 8707674 raw words (7512705 effective words) took 10.6s, 707321 effective words/s\n",
      "2023-12-09 17:30:17,281 : INFO : EPOCH 4 - PROGRESS: at 9.08% examples, 679224 words/s, in_qsize 13, out_qsize 5\n",
      "2023-12-09 17:30:18,285 : INFO : EPOCH 4 - PROGRESS: at 19.87% examples, 743452 words/s, in_qsize 16, out_qsize 0\n",
      "2023-12-09 17:30:19,293 : INFO : EPOCH 4 - PROGRESS: at 30.09% examples, 749425 words/s, in_qsize 15, out_qsize 0\n",
      "2023-12-09 17:30:20,320 : INFO : EPOCH 4 - PROGRESS: at 40.06% examples, 744765 words/s, in_qsize 14, out_qsize 1\n",
      "2023-12-09 17:30:21,347 : INFO : EPOCH 4 - PROGRESS: at 49.00% examples, 726674 words/s, in_qsize 15, out_qsize 0\n",
      "2023-12-09 17:30:22,357 : INFO : EPOCH 4 - PROGRESS: at 58.05% examples, 718121 words/s, in_qsize 15, out_qsize 0\n",
      "2023-12-09 17:30:23,357 : INFO : EPOCH 4 - PROGRESS: at 66.31% examples, 704379 words/s, in_qsize 12, out_qsize 3\n",
      "2023-12-09 17:30:24,362 : INFO : EPOCH 4 - PROGRESS: at 74.80% examples, 695784 words/s, in_qsize 15, out_qsize 0\n",
      "2023-12-09 17:30:25,373 : INFO : EPOCH 4 - PROGRESS: at 82.52% examples, 681973 words/s, in_qsize 15, out_qsize 0\n",
      "2023-12-09 17:30:26,387 : INFO : EPOCH 4 - PROGRESS: at 91.37% examples, 679199 words/s, in_qsize 16, out_qsize 0\n",
      "2023-12-09 17:30:27,169 : INFO : EPOCH 4: training on 8707674 raw words (7513945 effective words) took 10.9s, 689870 effective words/s\n",
      "2023-12-09 17:30:28,225 : INFO : EPOCH 5 - PROGRESS: at 9.20% examples, 686083 words/s, in_qsize 15, out_qsize 0\n",
      "2023-12-09 17:30:29,230 : INFO : EPOCH 5 - PROGRESS: at 19.76% examples, 737531 words/s, in_qsize 16, out_qsize 1\n",
      "2023-12-09 17:30:30,287 : INFO : EPOCH 5 - PROGRESS: at 29.98% examples, 733882 words/s, in_qsize 15, out_qsize 0\n",
      "2023-12-09 17:30:31,296 : INFO : EPOCH 5 - PROGRESS: at 40.51% examples, 746958 words/s, in_qsize 15, out_qsize 0\n",
      "2023-12-09 17:30:32,311 : INFO : EPOCH 5 - PROGRESS: at 51.28% examples, 757182 words/s, in_qsize 15, out_qsize 0\n",
      "2023-12-09 17:30:33,348 : INFO : EPOCH 5 - PROGRESS: at 61.27% examples, 751612 words/s, in_qsize 16, out_qsize 1\n",
      "2023-12-09 17:30:34,349 : INFO : EPOCH 5 - PROGRESS: at 69.64% examples, 734387 words/s, in_qsize 14, out_qsize 1\n",
      "2023-12-09 17:30:35,397 : INFO : EPOCH 5 - PROGRESS: at 78.38% examples, 720393 words/s, in_qsize 15, out_qsize 1\n",
      "2023-12-09 17:30:36,403 : INFO : EPOCH 5 - PROGRESS: at 88.03% examples, 720389 words/s, in_qsize 16, out_qsize 0\n",
      "2023-12-09 17:30:37,409 : INFO : EPOCH 5 - PROGRESS: at 97.92% examples, 722044 words/s, in_qsize 14, out_qsize 1\n",
      "2023-12-09 17:30:37,558 : INFO : EPOCH 5: training on 8707674 raw words (7513751 effective words) took 10.3s, 726790 effective words/s\n",
      "2023-12-09 17:30:38,610 : INFO : EPOCH 6 - PROGRESS: at 9.08% examples, 662337 words/s, in_qsize 15, out_qsize 0\n",
      "2023-12-09 17:30:39,639 : INFO : EPOCH 6 - PROGRESS: at 18.50% examples, 674738 words/s, in_qsize 15, out_qsize 0\n",
      "2023-12-09 17:30:40,649 : INFO : EPOCH 6 - PROGRESS: at 28.37% examples, 694331 words/s, in_qsize 14, out_qsize 1\n",
      "2023-12-09 17:30:41,664 : INFO : EPOCH 6 - PROGRESS: at 39.03% examples, 717605 words/s, in_qsize 16, out_qsize 1\n",
      "2023-12-09 17:30:42,684 : INFO : EPOCH 6 - PROGRESS: at 49.23% examples, 724060 words/s, in_qsize 16, out_qsize 0\n",
      "2023-12-09 17:30:43,699 : INFO : EPOCH 6 - PROGRESS: at 59.77% examples, 734618 words/s, in_qsize 16, out_qsize 1\n",
      "2023-12-09 17:30:44,721 : INFO : EPOCH 6 - PROGRESS: at 70.67% examples, 744207 words/s, in_qsize 15, out_qsize 0\n",
      "2023-12-09 17:30:45,708 : INFO : EPOCH 6 - PROGRESS: at 81.26% examples, 750030 words/s, in_qsize 16, out_qsize 0\n",
      "2023-12-09 17:30:46,724 : INFO : EPOCH 6 - PROGRESS: at 91.82% examples, 754418 words/s, in_qsize 15, out_qsize 0\n",
      "2023-12-09 17:30:47,578 : INFO : EPOCH 6: training on 8707674 raw words (7512534 effective words) took 10.0s, 751569 effective words/s\n",
      "2023-12-09 17:30:48,610 : INFO : EPOCH 7 - PROGRESS: at 8.51% examples, 636059 words/s, in_qsize 14, out_qsize 1\n",
      "2023-12-09 17:30:49,637 : INFO : EPOCH 7 - PROGRESS: at 17.93% examples, 662888 words/s, in_qsize 16, out_qsize 0\n",
      "2023-12-09 17:30:50,641 : INFO : EPOCH 7 - PROGRESS: at 27.22% examples, 673614 words/s, in_qsize 12, out_qsize 3\n",
      "2023-12-09 17:30:51,656 : INFO : EPOCH 7 - PROGRESS: at 36.96% examples, 685937 words/s, in_qsize 14, out_qsize 1\n",
      "2023-12-09 17:30:52,668 : INFO : EPOCH 7 - PROGRESS: at 47.63% examples, 707321 words/s, in_qsize 15, out_qsize 0\n",
      "2023-12-09 17:30:53,694 : INFO : EPOCH 7 - PROGRESS: at 57.82% examples, 714238 words/s, in_qsize 16, out_qsize 2\n",
      "2023-12-09 17:30:54,695 : INFO : EPOCH 7 - PROGRESS: at 66.77% examples, 708304 words/s, in_qsize 16, out_qsize 0\n",
      "2023-12-09 17:30:55,706 : INFO : EPOCH 7 - PROGRESS: at 76.07% examples, 706153 words/s, in_qsize 15, out_qsize 0\n",
      "2023-12-09 17:30:56,714 : INFO : EPOCH 7 - PROGRESS: at 85.05% examples, 701912 words/s, in_qsize 16, out_qsize 1\n",
      "2023-12-09 17:30:57,723 : INFO : EPOCH 7 - PROGRESS: at 95.18% examples, 706854 words/s, in_qsize 14, out_qsize 1\n",
      "2023-12-09 17:30:58,123 : INFO : EPOCH 7: training on 8707674 raw words (7514001 effective words) took 10.5s, 714534 effective words/s\n",
      "2023-12-09 17:30:59,165 : INFO : EPOCH 8 - PROGRESS: at 8.97% examples, 664259 words/s, in_qsize 14, out_qsize 1\n",
      "2023-12-09 17:31:00,165 : INFO : EPOCH 8 - PROGRESS: at 19.30% examples, 719808 words/s, in_qsize 15, out_qsize 0\n",
      "2023-12-09 17:31:01,185 : INFO : EPOCH 8 - PROGRESS: at 28.95% examples, 716605 words/s, in_qsize 15, out_qsize 0\n",
      "2023-12-09 17:31:02,188 : INFO : EPOCH 8 - PROGRESS: at 38.80% examples, 722368 words/s, in_qsize 15, out_qsize 0\n",
      "2023-12-09 17:31:03,209 : INFO : EPOCH 8 - PROGRESS: at 46.94% examples, 697638 words/s, in_qsize 15, out_qsize 0\n",
      "2023-12-09 17:31:04,221 : INFO : EPOCH 8 - PROGRESS: at 54.38% examples, 673722 words/s, in_qsize 15, out_qsize 0\n",
      "2023-12-09 17:31:05,221 : INFO : EPOCH 8 - PROGRESS: at 62.52% examples, 665070 words/s, in_qsize 15, out_qsize 0\n",
      "2023-12-09 17:31:06,237 : INFO : EPOCH 8 - PROGRESS: at 70.78% examples, 658351 words/s, in_qsize 14, out_qsize 1\n",
      "2023-12-09 17:31:07,266 : INFO : EPOCH 8 - PROGRESS: at 78.84% examples, 650250 words/s, in_qsize 15, out_qsize 0\n",
      "2023-12-09 17:31:08,279 : INFO : EPOCH 8 - PROGRESS: at 87.57% examples, 649900 words/s, in_qsize 15, out_qsize 0\n",
      "2023-12-09 17:31:09,282 : INFO : EPOCH 8 - PROGRESS: at 96.79% examples, 653240 words/s, in_qsize 15, out_qsize 0\n",
      "2023-12-09 17:31:09,627 : INFO : EPOCH 8: training on 8707674 raw words (7513201 effective words) took 11.5s, 654610 effective words/s\n",
      "2023-12-09 17:31:10,659 : INFO : EPOCH 9 - PROGRESS: at 9.08% examples, 676351 words/s, in_qsize 14, out_qsize 1\n",
      "2023-12-09 17:31:11,669 : INFO : EPOCH 9 - PROGRESS: at 18.84% examples, 701979 words/s, in_qsize 15, out_qsize 0\n",
      "2023-12-09 17:31:12,689 : INFO : EPOCH 9 - PROGRESS: at 28.37% examples, 701872 words/s, in_qsize 15, out_qsize 0\n",
      "2023-12-09 17:31:13,704 : INFO : EPOCH 9 - PROGRESS: at 38.11% examples, 705913 words/s, in_qsize 16, out_qsize 1\n",
      "2023-12-09 17:31:14,740 : INFO : EPOCH 9 - PROGRESS: at 48.77% examples, 720791 words/s, in_qsize 16, out_qsize 0\n",
      "2023-12-09 17:31:15,778 : INFO : EPOCH 9 - PROGRESS: at 57.94% examples, 711434 words/s, in_qsize 16, out_qsize 1\n",
      "2023-12-09 17:31:16,785 : INFO : EPOCH 9 - PROGRESS: at 63.55% examples, 670213 words/s, in_qsize 15, out_qsize 0\n",
      "2023-12-09 17:31:17,774 : INFO : EPOCH 9 - PROGRESS: at 71.36% examples, 659807 words/s, in_qsize 16, out_qsize 0\n",
      "2023-12-09 17:31:18,784 : INFO : EPOCH 9 - PROGRESS: at 77.92% examples, 640758 words/s, in_qsize 13, out_qsize 2\n",
      "2023-12-09 17:31:19,840 : INFO : EPOCH 9 - PROGRESS: at 84.93% examples, 626568 words/s, in_qsize 16, out_qsize 1\n",
      "2023-12-09 17:31:20,875 : INFO : EPOCH 9 - PROGRESS: at 91.71% examples, 614142 words/s, in_qsize 15, out_qsize 0\n",
      "2023-12-09 17:31:21,882 : INFO : EPOCH 9 - PROGRESS: at 97.70% examples, 600246 words/s, in_qsize 15, out_qsize 0\n",
      "2023-12-09 17:31:22,141 : INFO : EPOCH 9: training on 8707674 raw words (7513312 effective words) took 12.5s, 601700 effective words/s\n",
      "2023-12-09 17:31:23,198 : INFO : EPOCH 10 - PROGRESS: at 6.09% examples, 444891 words/s, in_qsize 15, out_qsize 0\n",
      "2023-12-09 17:31:24,201 : INFO : EPOCH 10 - PROGRESS: at 13.00% examples, 480284 words/s, in_qsize 13, out_qsize 2\n",
      "2023-12-09 17:31:25,218 : INFO : EPOCH 10 - PROGRESS: at 21.02% examples, 518261 words/s, in_qsize 14, out_qsize 1\n",
      "2023-12-09 17:31:26,237 : INFO : EPOCH 10 - PROGRESS: at 29.52% examples, 545384 words/s, in_qsize 13, out_qsize 2\n",
      "2023-12-09 17:31:27,247 : INFO : EPOCH 10 - PROGRESS: at 38.80% examples, 574417 words/s, in_qsize 15, out_qsize 0\n",
      "2023-12-09 17:31:28,251 : INFO : EPOCH 10 - PROGRESS: at 47.28% examples, 584607 words/s, in_qsize 15, out_qsize 0\n",
      "2023-12-09 17:31:29,264 : INFO : EPOCH 10 - PROGRESS: at 56.56% examples, 599592 words/s, in_qsize 15, out_qsize 0\n",
      "2023-12-09 17:31:30,289 : INFO : EPOCH 10 - PROGRESS: at 65.85% examples, 610038 words/s, in_qsize 15, out_qsize 0\n",
      "2023-12-09 17:31:31,291 : INFO : EPOCH 10 - PROGRESS: at 75.04% examples, 618696 words/s, in_qsize 14, out_qsize 1\n",
      "2023-12-09 17:31:32,296 : INFO : EPOCH 10 - PROGRESS: at 84.13% examples, 624616 words/s, in_qsize 15, out_qsize 0\n",
      "2023-12-09 17:31:33,299 : INFO : EPOCH 10 - PROGRESS: at 93.32% examples, 630235 words/s, in_qsize 16, out_qsize 1\n",
      "2023-12-09 17:31:34,031 : INFO : EPOCH 10: training on 8707674 raw words (7514462 effective words) took 11.9s, 633605 effective words/s\n",
      "2023-12-09 17:31:35,087 : INFO : EPOCH 11 - PROGRESS: at 7.82% examples, 574092 words/s, in_qsize 14, out_qsize 1\n",
      "2023-12-09 17:31:36,096 : INFO : EPOCH 11 - PROGRESS: at 16.89% examples, 623917 words/s, in_qsize 15, out_qsize 0\n",
      "2023-12-09 17:31:37,125 : INFO : EPOCH 11 - PROGRESS: at 26.19% examples, 642776 words/s, in_qsize 16, out_qsize 0\n",
      "2023-12-09 17:31:38,154 : INFO : EPOCH 11 - PROGRESS: at 35.13% examples, 645621 words/s, in_qsize 15, out_qsize 0\n",
      "2023-12-09 17:31:39,185 : INFO : EPOCH 11 - PROGRESS: at 42.70% examples, 626797 words/s, in_qsize 16, out_qsize 0\n",
      "2023-12-09 17:31:40,200 : INFO : EPOCH 11 - PROGRESS: at 50.37% examples, 617079 words/s, in_qsize 14, out_qsize 1\n",
      "2023-12-09 17:31:41,213 : INFO : EPOCH 11 - PROGRESS: at 58.86% examples, 618747 words/s, in_qsize 15, out_qsize 0\n",
      "2023-12-09 17:31:42,239 : INFO : EPOCH 11 - PROGRESS: at 66.77% examples, 614197 words/s, in_qsize 16, out_qsize 1\n",
      "2023-12-09 17:31:43,249 : INFO : EPOCH 11 - PROGRESS: at 74.46% examples, 609588 words/s, in_qsize 15, out_qsize 0\n",
      "2023-12-09 17:31:44,253 : INFO : EPOCH 11 - PROGRESS: at 83.67% examples, 617112 words/s, in_qsize 14, out_qsize 1\n",
      "2023-12-09 17:31:45,278 : INFO : EPOCH 11 - PROGRESS: at 93.44% examples, 626150 words/s, in_qsize 15, out_qsize 0\n",
      "2023-12-09 17:31:45,937 : INFO : EPOCH 11: training on 8707674 raw words (7513730 effective words) took 11.9s, 632827 effective words/s\n",
      "2023-12-09 17:31:46,988 : INFO : EPOCH 12 - PROGRESS: at 9.43% examples, 692023 words/s, in_qsize 13, out_qsize 2\n",
      "2023-12-09 17:31:48,003 : INFO : EPOCH 12 - PROGRESS: at 19.41% examples, 715443 words/s, in_qsize 15, out_qsize 0\n",
      "2023-12-09 17:31:49,019 : INFO : EPOCH 12 - PROGRESS: at 28.37% examples, 697796 words/s, in_qsize 15, out_qsize 0\n",
      "2023-12-09 17:31:50,030 : INFO : EPOCH 12 - PROGRESS: at 36.39% examples, 672740 words/s, in_qsize 15, out_qsize 0\n",
      "2023-12-09 17:31:51,047 : INFO : EPOCH 12 - PROGRESS: at 46.13% examples, 682308 words/s, in_qsize 15, out_qsize 0\n",
      "2023-12-09 17:31:52,070 : INFO : EPOCH 12 - PROGRESS: at 55.52% examples, 683826 words/s, in_qsize 14, out_qsize 1\n",
      "2023-12-09 17:31:53,105 : INFO : EPOCH 12 - PROGRESS: at 65.04% examples, 684973 words/s, in_qsize 16, out_qsize 1\n",
      "2023-12-09 17:31:54,138 : INFO : EPOCH 12 - PROGRESS: at 75.61% examples, 695514 words/s, in_qsize 15, out_qsize 0\n",
      "2023-12-09 17:31:55,141 : INFO : EPOCH 12 - PROGRESS: at 86.08% examples, 704994 words/s, in_qsize 15, out_qsize 0\n",
      "2023-12-09 17:31:56,143 : INFO : EPOCH 12 - PROGRESS: at 95.75% examples, 706727 words/s, in_qsize 15, out_qsize 0\n",
      "2023-12-09 17:31:56,499 : INFO : EPOCH 12: training on 8707674 raw words (7512483 effective words) took 10.5s, 713246 effective words/s\n",
      "2023-12-09 17:31:57,567 : INFO : EPOCH 13 - PROGRESS: at 10.12% examples, 727196 words/s, in_qsize 15, out_qsize 0\n",
      "2023-12-09 17:31:58,602 : INFO : EPOCH 13 - PROGRESS: at 20.33% examples, 734138 words/s, in_qsize 14, out_qsize 1\n",
      "2023-12-09 17:31:59,602 : INFO : EPOCH 13 - PROGRESS: at 28.72% examples, 700114 words/s, in_qsize 15, out_qsize 0\n",
      "2023-12-09 17:32:00,618 : INFO : EPOCH 13 - PROGRESS: at 38.34% examples, 703325 words/s, in_qsize 14, out_qsize 1\n",
      "2023-12-09 17:32:01,637 : INFO : EPOCH 13 - PROGRESS: at 48.20% examples, 708374 words/s, in_qsize 16, out_qsize 0\n",
      "2023-12-09 17:32:02,640 : INFO : EPOCH 13 - PROGRESS: at 57.71% examples, 709202 words/s, in_qsize 15, out_qsize 0\n",
      "2023-12-09 17:32:03,659 : INFO : EPOCH 13 - PROGRESS: at 66.88% examples, 704731 words/s, in_qsize 14, out_qsize 1\n",
      "2023-12-09 17:32:04,670 : INFO : EPOCH 13 - PROGRESS: at 77.11% examples, 711514 words/s, in_qsize 14, out_qsize 1\n",
      "2023-12-09 17:32:05,675 : INFO : EPOCH 13 - PROGRESS: at 86.42% examples, 709665 words/s, in_qsize 12, out_qsize 2\n",
      "2023-12-09 17:32:06,711 : INFO : EPOCH 13 - PROGRESS: at 97.24% examples, 717015 words/s, in_qsize 16, out_qsize 0\n",
      "2023-12-09 17:32:06,908 : INFO : EPOCH 13: training on 8707674 raw words (7512616 effective words) took 10.4s, 723426 effective words/s\n",
      "2023-12-09 17:32:07,974 : INFO : EPOCH 14 - PROGRESS: at 9.66% examples, 711028 words/s, in_qsize 15, out_qsize 0\n",
      "2023-12-09 17:32:09,018 : INFO : EPOCH 14 - PROGRESS: at 20.67% examples, 752131 words/s, in_qsize 15, out_qsize 0\n",
      "2023-12-09 17:32:10,034 : INFO : EPOCH 14 - PROGRESS: at 31.58% examples, 770263 words/s, in_qsize 15, out_qsize 0\n",
      "2023-12-09 17:32:11,099 : INFO : EPOCH 14 - PROGRESS: at 42.58% examples, 772176 words/s, in_qsize 15, out_qsize 0\n",
      "2023-12-09 17:32:12,102 : INFO : EPOCH 14 - PROGRESS: at 53.23% examples, 777508 words/s, in_qsize 15, out_qsize 0\n",
      "2023-12-09 17:32:13,145 : INFO : EPOCH 14 - PROGRESS: at 63.67% examples, 773434 words/s, in_qsize 15, out_qsize 1\n",
      "2023-12-09 17:32:14,151 : INFO : EPOCH 14 - PROGRESS: at 72.97% examples, 762343 words/s, in_qsize 14, out_qsize 1\n",
      "2023-12-09 17:32:15,200 : INFO : EPOCH 14 - PROGRESS: at 81.95% examples, 747075 words/s, in_qsize 15, out_qsize 0\n",
      "2023-12-09 17:32:16,220 : INFO : EPOCH 14 - PROGRESS: at 90.44% examples, 733594 words/s, in_qsize 15, out_qsize 0\n",
      "2023-12-09 17:32:17,228 : INFO : EPOCH 14 - PROGRESS: at 96.90% examples, 708552 words/s, in_qsize 15, out_qsize 0\n",
      "2023-12-09 17:32:17,649 : INFO : EPOCH 14: training on 8707674 raw words (7513925 effective words) took 10.7s, 702545 effective words/s\n",
      "2023-12-09 17:32:18,693 : INFO : EPOCH 15 - PROGRESS: at 7.82% examples, 580783 words/s, in_qsize 15, out_qsize 0\n",
      "2023-12-09 17:32:19,719 : INFO : EPOCH 15 - PROGRESS: at 17.01% examples, 626886 words/s, in_qsize 15, out_qsize 0\n",
      "2023-12-09 17:32:20,757 : INFO : EPOCH 15 - PROGRESS: at 27.11% examples, 662189 words/s, in_qsize 15, out_qsize 0\n",
      "2023-12-09 17:32:21,770 : INFO : EPOCH 15 - PROGRESS: at 35.36% examples, 649335 words/s, in_qsize 15, out_qsize 0\n",
      "2023-12-09 17:32:22,794 : INFO : EPOCH 15 - PROGRESS: at 44.07% examples, 648027 words/s, in_qsize 15, out_qsize 0\n",
      "2023-12-09 17:32:23,825 : INFO : EPOCH 15 - PROGRESS: at 49.69% examples, 608100 words/s, in_qsize 14, out_qsize 1\n",
      "2023-12-09 17:32:24,872 : INFO : EPOCH 15 - PROGRESS: at 56.09% examples, 586783 words/s, in_qsize 16, out_qsize 0\n",
      "2023-12-09 17:32:25,873 : INFO : EPOCH 15 - PROGRESS: at 64.81% examples, 595162 words/s, in_qsize 14, out_qsize 1\n",
      "2023-12-09 17:32:26,880 : INFO : EPOCH 15 - PROGRESS: at 71.70% examples, 586230 words/s, in_qsize 15, out_qsize 0\n",
      "2023-12-09 17:32:27,892 : INFO : EPOCH 15 - PROGRESS: at 79.53% examples, 585537 words/s, in_qsize 15, out_qsize 0\n",
      "2023-12-09 17:32:28,900 : INFO : EPOCH 15 - PROGRESS: at 88.14% examples, 590558 words/s, in_qsize 15, out_qsize 0\n",
      "2023-12-09 17:32:29,912 : INFO : EPOCH 15 - PROGRESS: at 97.13% examples, 596647 words/s, in_qsize 15, out_qsize 0\n",
      "2023-12-09 17:32:30,213 : INFO : EPOCH 15: training on 8707674 raw words (7513270 effective words) took 12.5s, 599644 effective words/s\n",
      "2023-12-09 17:32:31,264 : INFO : EPOCH 16 - PROGRESS: at 7.71% examples, 567875 words/s, in_qsize 15, out_qsize 0\n",
      "2023-12-09 17:32:32,276 : INFO : EPOCH 16 - PROGRESS: at 16.78% examples, 620141 words/s, in_qsize 15, out_qsize 0\n",
      "2023-12-09 17:32:33,302 : INFO : EPOCH 16 - PROGRESS: at 25.62% examples, 629380 words/s, in_qsize 14, out_qsize 1\n",
      "2023-12-09 17:32:34,323 : INFO : EPOCH 16 - PROGRESS: at 34.10% examples, 628532 words/s, in_qsize 14, out_qsize 1\n",
      "2023-12-09 17:32:35,336 : INFO : EPOCH 16 - PROGRESS: at 43.04% examples, 635676 words/s, in_qsize 15, out_qsize 0\n",
      "2023-12-09 17:32:36,343 : INFO : EPOCH 16 - PROGRESS: at 50.71% examples, 625336 words/s, in_qsize 14, out_qsize 1\n",
      "2023-12-09 17:32:37,364 : INFO : EPOCH 16 - PROGRESS: at 59.55% examples, 629108 words/s, in_qsize 15, out_qsize 0\n",
      "2023-12-09 17:32:38,374 : INFO : EPOCH 16 - PROGRESS: at 68.38% examples, 632604 words/s, in_qsize 16, out_qsize 0\n",
      "2023-12-09 17:32:39,385 : INFO : EPOCH 16 - PROGRESS: at 75.38% examples, 620194 words/s, in_qsize 15, out_qsize 0\n",
      "2023-12-09 17:32:40,408 : INFO : EPOCH 16 - PROGRESS: at 84.36% examples, 624001 words/s, in_qsize 15, out_qsize 0\n",
      "2023-12-09 17:32:41,435 : INFO : EPOCH 16 - PROGRESS: at 93.32% examples, 626806 words/s, in_qsize 16, out_qsize 0\n",
      "2023-12-09 17:32:42,126 : INFO : EPOCH 16: training on 8707674 raw words (7514238 effective words) took 11.9s, 632513 effective words/s\n",
      "2023-12-09 17:32:43,158 : INFO : EPOCH 17 - PROGRESS: at 7.94% examples, 591924 words/s, in_qsize 15, out_qsize 0\n",
      "2023-12-09 17:32:44,188 : INFO : EPOCH 17 - PROGRESS: at 16.66% examples, 614290 words/s, in_qsize 16, out_qsize 2\n",
      "2023-12-09 17:32:45,190 : INFO : EPOCH 17 - PROGRESS: at 25.62% examples, 633244 words/s, in_qsize 15, out_qsize 0\n",
      "2023-12-09 17:32:46,214 : INFO : EPOCH 17 - PROGRESS: at 33.99% examples, 628734 words/s, in_qsize 15, out_qsize 0\n",
      "2023-12-09 17:32:47,283 : INFO : EPOCH 17 - PROGRESS: at 43.38% examples, 635645 words/s, in_qsize 14, out_qsize 3\n",
      "2023-12-09 17:32:48,317 : INFO : EPOCH 17 - PROGRESS: at 52.78% examples, 643728 words/s, in_qsize 14, out_qsize 1\n",
      "2023-12-09 17:32:49,319 : INFO : EPOCH 17 - PROGRESS: at 62.06% examples, 651225 words/s, in_qsize 15, out_qsize 0\n",
      "2023-12-09 17:32:50,348 : INFO : EPOCH 17 - PROGRESS: at 71.24% examples, 653656 words/s, in_qsize 15, out_qsize 0\n",
      "2023-12-09 17:32:51,367 : INFO : EPOCH 17 - PROGRESS: at 80.11% examples, 653401 words/s, in_qsize 16, out_qsize 2\n",
      "2023-12-09 17:32:52,376 : INFO : EPOCH 17 - PROGRESS: at 88.94% examples, 653991 words/s, in_qsize 16, out_qsize 1\n",
      "2023-12-09 17:32:53,379 : INFO : EPOCH 17 - PROGRESS: at 98.27% examples, 657766 words/s, in_qsize 14, out_qsize 1\n",
      "2023-12-09 17:32:53,520 : INFO : EPOCH 17: training on 8707674 raw words (7514007 effective words) took 11.4s, 661056 effective words/s\n",
      "2023-12-09 17:32:54,583 : INFO : EPOCH 18 - PROGRESS: at 8.28% examples, 597094 words/s, in_qsize 16, out_qsize 1\n",
      "2023-12-09 17:32:55,588 : INFO : EPOCH 18 - PROGRESS: at 17.47% examples, 640767 words/s, in_qsize 15, out_qsize 0\n",
      "2023-12-09 17:32:56,608 : INFO : EPOCH 18 - PROGRESS: at 26.30% examples, 644303 words/s, in_qsize 16, out_qsize 0\n",
      "2023-12-09 17:32:57,660 : INFO : EPOCH 18 - PROGRESS: at 35.70% examples, 651447 words/s, in_qsize 16, out_qsize 0\n",
      "2023-12-09 17:32:58,680 : INFO : EPOCH 18 - PROGRESS: at 44.98% examples, 658057 words/s, in_qsize 15, out_qsize 1\n",
      "2023-12-09 17:32:59,682 : INFO : EPOCH 18 - PROGRESS: at 53.58% examples, 656148 words/s, in_qsize 14, out_qsize 1\n",
      "2023-12-09 17:33:00,697 : INFO : EPOCH 18 - PROGRESS: at 62.41% examples, 655541 words/s, in_qsize 15, out_qsize 0\n",
      "2023-12-09 17:33:01,702 : INFO : EPOCH 18 - PROGRESS: at 70.44% examples, 649039 words/s, in_qsize 15, out_qsize 1\n",
      "2023-12-09 17:33:02,704 : INFO : EPOCH 18 - PROGRESS: at 79.76% examples, 654410 words/s, in_qsize 15, out_qsize 0\n",
      "2023-12-09 17:33:03,716 : INFO : EPOCH 18 - PROGRESS: at 88.37% examples, 652584 words/s, in_qsize 16, out_qsize 0\n",
      "2023-12-09 17:33:04,738 : INFO : EPOCH 18 - PROGRESS: at 94.95% examples, 637019 words/s, in_qsize 16, out_qsize 1\n",
      "2023-12-09 17:33:05,357 : INFO : EPOCH 18: training on 8707674 raw words (7513655 effective words) took 11.8s, 635829 effective words/s\n",
      "2023-12-09 17:33:06,401 : INFO : EPOCH 19 - PROGRESS: at 7.48% examples, 549640 words/s, in_qsize 14, out_qsize 1\n",
      "2023-12-09 17:33:07,419 : INFO : EPOCH 19 - PROGRESS: at 15.86% examples, 584077 words/s, in_qsize 14, out_qsize 1\n",
      "2023-12-09 17:33:08,427 : INFO : EPOCH 19 - PROGRESS: at 24.70% examples, 608806 words/s, in_qsize 14, out_qsize 1\n",
      "2023-12-09 17:33:09,457 : INFO : EPOCH 19 - PROGRESS: at 33.53% examples, 617985 words/s, in_qsize 13, out_qsize 2\n",
      "2023-12-09 17:33:10,476 : INFO : EPOCH 19 - PROGRESS: at 42.58% examples, 628128 words/s, in_qsize 16, out_qsize 0\n",
      "2023-12-09 17:33:11,482 : INFO : EPOCH 19 - PROGRESS: at 51.51% examples, 635027 words/s, in_qsize 16, out_qsize 0\n",
      "2023-12-09 17:33:12,482 : INFO : EPOCH 19 - PROGRESS: at 60.23% examples, 637904 words/s, in_qsize 14, out_qsize 1\n",
      "2023-12-09 17:33:13,487 : INFO : EPOCH 19 - PROGRESS: at 69.64% examples, 646031 words/s, in_qsize 14, out_qsize 1\n",
      "2023-12-09 17:33:14,516 : INFO : EPOCH 19 - PROGRESS: at 76.65% examples, 630922 words/s, in_qsize 16, out_qsize 3\n",
      "2023-12-09 17:33:15,527 : INFO : EPOCH 19 - PROGRESS: at 84.24% examples, 624127 words/s, in_qsize 15, out_qsize 0\n",
      "2023-12-09 17:33:16,528 : INFO : EPOCH 19 - PROGRESS: at 92.28% examples, 622165 words/s, in_qsize 15, out_qsize 0\n",
      "2023-12-09 17:33:17,422 : INFO : EPOCH 19: training on 8707674 raw words (7514202 effective words) took 12.0s, 624045 effective words/s\n",
      "2023-12-09 17:33:18,467 : INFO : EPOCH 20 - PROGRESS: at 6.56% examples, 483244 words/s, in_qsize 15, out_qsize 0\n",
      "2023-12-09 17:33:19,471 : INFO : EPOCH 20 - PROGRESS: at 13.80% examples, 512229 words/s, in_qsize 15, out_qsize 0\n",
      "2023-12-09 17:33:20,519 : INFO : EPOCH 20 - PROGRESS: at 22.28% examples, 545389 words/s, in_qsize 15, out_qsize 0\n",
      "2023-12-09 17:33:21,521 : INFO : EPOCH 20 - PROGRESS: at 31.12% examples, 574381 words/s, in_qsize 15, out_qsize 1\n",
      "2023-12-09 17:33:22,525 : INFO : EPOCH 20 - PROGRESS: at 40.06% examples, 593369 words/s, in_qsize 15, out_qsize 0\n",
      "2023-12-09 17:33:23,537 : INFO : EPOCH 20 - PROGRESS: at 48.89% examples, 603750 words/s, in_qsize 15, out_qsize 0\n",
      "2023-12-09 17:33:24,582 : INFO : EPOCH 20 - PROGRESS: at 56.90% examples, 600049 words/s, in_qsize 14, out_qsize 1\n",
      "2023-12-09 17:33:25,643 : INFO : EPOCH 20 - PROGRESS: at 66.08% examples, 606568 words/s, in_qsize 16, out_qsize 1\n",
      "2023-12-09 17:33:26,687 : INFO : EPOCH 20 - PROGRESS: at 74.69% examples, 608063 words/s, in_qsize 14, out_qsize 1\n",
      "2023-12-09 17:33:27,757 : INFO : EPOCH 20 - PROGRESS: at 83.79% examples, 611041 words/s, in_qsize 15, out_qsize 1\n",
      "2023-12-09 17:33:28,774 : INFO : EPOCH 20 - PROGRESS: at 92.98% examples, 617078 words/s, in_qsize 15, out_qsize 0\n",
      "2023-12-09 17:33:29,718 : INFO : EPOCH 20: training on 8707674 raw words (7513957 effective words) took 12.3s, 612532 effective words/s\n",
      "2023-12-09 17:33:30,751 : INFO : EPOCH 21 - PROGRESS: at 7.36% examples, 551781 words/s, in_qsize 14, out_qsize 1\n",
      "2023-12-09 17:33:31,767 : INFO : EPOCH 21 - PROGRESS: at 15.63% examples, 581793 words/s, in_qsize 16, out_qsize 1\n",
      "2023-12-09 17:33:32,807 : INFO : EPOCH 21 - PROGRESS: at 23.89% examples, 586911 words/s, in_qsize 15, out_qsize 0\n",
      "2023-12-09 17:33:33,824 : INFO : EPOCH 21 - PROGRESS: at 31.12% examples, 573863 words/s, in_qsize 13, out_qsize 2\n",
      "2023-12-09 17:33:34,891 : INFO : EPOCH 21 - PROGRESS: at 37.88% examples, 553839 words/s, in_qsize 14, out_qsize 1\n",
      "2023-12-09 17:33:35,891 : INFO : EPOCH 21 - PROGRESS: at 46.71% examples, 571662 words/s, in_qsize 15, out_qsize 0\n",
      "2023-12-09 17:33:36,899 : INFO : EPOCH 21 - PROGRESS: at 55.17% examples, 580410 words/s, in_qsize 15, out_qsize 0\n",
      "2023-12-09 17:33:37,910 : INFO : EPOCH 21 - PROGRESS: at 63.09% examples, 581501 words/s, in_qsize 15, out_qsize 0\n",
      "2023-12-09 17:33:38,945 : INFO : EPOCH 21 - PROGRESS: at 70.44% examples, 576122 words/s, in_qsize 15, out_qsize 0\n",
      "2023-12-09 17:33:39,953 : INFO : EPOCH 21 - PROGRESS: at 78.73% examples, 580022 words/s, in_qsize 13, out_qsize 2\n",
      "2023-12-09 17:33:40,967 : INFO : EPOCH 21 - PROGRESS: at 86.99% examples, 583006 words/s, in_qsize 14, out_qsize 1\n",
      "2023-12-09 17:33:42,018 : INFO : EPOCH 21 - PROGRESS: at 96.32% examples, 589938 words/s, in_qsize 15, out_qsize 0\n",
      "2023-12-09 17:33:42,469 : INFO : EPOCH 21: training on 8707674 raw words (7514010 effective words) took 12.7s, 590803 effective words/s\n",
      "2023-12-09 17:33:43,537 : INFO : EPOCH 22 - PROGRESS: at 6.32% examples, 463072 words/s, in_qsize 15, out_qsize 0\n",
      "2023-12-09 17:33:44,542 : INFO : EPOCH 22 - PROGRESS: at 16.67% examples, 616310 words/s, in_qsize 14, out_qsize 1\n",
      "2023-12-09 17:33:45,577 : INFO : EPOCH 22 - PROGRESS: at 25.85% examples, 633482 words/s, in_qsize 15, out_qsize 0\n",
      "2023-12-09 17:33:46,584 : INFO : EPOCH 22 - PROGRESS: at 35.59% examples, 656729 words/s, in_qsize 15, out_qsize 0\n",
      "2023-12-09 17:33:47,623 : INFO : EPOCH 22 - PROGRESS: at 44.76% examples, 658296 words/s, in_qsize 15, out_qsize 0\n",
      "2023-12-09 17:33:48,635 : INFO : EPOCH 22 - PROGRESS: at 53.34% examples, 655157 words/s, in_qsize 15, out_qsize 0\n",
      "2023-12-09 17:33:49,650 : INFO : EPOCH 22 - PROGRESS: at 61.95% examples, 652665 words/s, in_qsize 13, out_qsize 2\n",
      "2023-12-09 17:33:50,666 : INFO : EPOCH 22 - PROGRESS: at 70.90% examples, 653898 words/s, in_qsize 15, out_qsize 0\n",
      "2023-12-09 17:33:51,669 : INFO : EPOCH 22 - PROGRESS: at 79.07% examples, 649078 words/s, in_qsize 16, out_qsize 0\n",
      "2023-12-09 17:33:52,671 : INFO : EPOCH 22 - PROGRESS: at 88.37% examples, 653776 words/s, in_qsize 13, out_qsize 2\n",
      "2023-12-09 17:33:53,683 : INFO : EPOCH 22 - PROGRESS: at 98.04% examples, 659415 words/s, in_qsize 15, out_qsize 0\n",
      "2023-12-09 17:33:53,900 : INFO : EPOCH 22: training on 8707674 raw words (7513016 effective words) took 11.4s, 659764 effective words/s\n",
      "2023-12-09 17:33:54,941 : INFO : EPOCH 23 - PROGRESS: at 8.86% examples, 652115 words/s, in_qsize 14, out_qsize 1\n",
      "2023-12-09 17:33:55,945 : INFO : EPOCH 23 - PROGRESS: at 18.38% examples, 682477 words/s, in_qsize 14, out_qsize 1\n",
      "2023-12-09 17:33:56,947 : INFO : EPOCH 23 - PROGRESS: at 27.57% examples, 684416 words/s, in_qsize 15, out_qsize 0\n",
      "2023-12-09 17:33:57,950 : INFO : EPOCH 23 - PROGRESS: at 36.73% examples, 685396 words/s, in_qsize 15, out_qsize 0\n",
      "2023-12-09 17:33:58,951 : INFO : EPOCH 23 - PROGRESS: at 46.13% examples, 689728 words/s, in_qsize 15, out_qsize 1\n",
      "2023-12-09 17:33:59,955 : INFO : EPOCH 23 - PROGRESS: at 57.13% examples, 712308 words/s, in_qsize 16, out_qsize 0\n",
      "2023-12-09 17:34:00,956 : INFO : EPOCH 23 - PROGRESS: at 63.20% examples, 675933 words/s, in_qsize 14, out_qsize 1\n",
      "2023-12-09 17:34:01,962 : INFO : EPOCH 23 - PROGRESS: at 70.56% examples, 659925 words/s, in_qsize 15, out_qsize 0\n",
      "2023-12-09 17:34:02,974 : INFO : EPOCH 23 - PROGRESS: at 77.68% examples, 645283 words/s, in_qsize 15, out_qsize 0\n",
      "2023-12-09 17:34:03,987 : INFO : EPOCH 23 - PROGRESS: at 85.39% examples, 637719 words/s, in_qsize 13, out_qsize 2\n",
      "2023-12-09 17:34:04,988 : INFO : EPOCH 23 - PROGRESS: at 92.75% examples, 629806 words/s, in_qsize 14, out_qsize 1\n",
      "2023-12-09 17:34:05,960 : INFO : EPOCH 23: training on 8707674 raw words (7513817 effective words) took 12.0s, 623647 effective words/s\n",
      "2023-12-09 17:34:07,051 : INFO : EPOCH 24 - PROGRESS: at 7.36% examples, 533970 words/s, in_qsize 16, out_qsize 0\n",
      "2023-12-09 17:34:08,085 : INFO : EPOCH 24 - PROGRESS: at 18.04% examples, 655330 words/s, in_qsize 16, out_qsize 0\n",
      "2023-12-09 17:34:09,090 : INFO : EPOCH 24 - PROGRESS: at 29.18% examples, 713553 words/s, in_qsize 13, out_qsize 2\n",
      "2023-12-09 17:34:10,091 : INFO : EPOCH 24 - PROGRESS: at 39.71% examples, 732928 words/s, in_qsize 13, out_qsize 2\n",
      "2023-12-09 17:34:11,097 : INFO : EPOCH 24 - PROGRESS: at 50.59% examples, 749199 words/s, in_qsize 13, out_qsize 2\n",
      "2023-12-09 17:34:12,136 : INFO : EPOCH 24 - PROGRESS: at 61.84% examples, 760179 words/s, in_qsize 16, out_qsize 0\n",
      "2023-12-09 17:34:13,132 : INFO : EPOCH 24 - PROGRESS: at 73.08% examples, 770967 words/s, in_qsize 13, out_qsize 2\n",
      "2023-12-09 17:34:14,155 : INFO : EPOCH 24 - PROGRESS: at 83.79% examples, 774008 words/s, in_qsize 15, out_qsize 0\n",
      "2023-12-09 17:34:15,180 : INFO : EPOCH 24 - PROGRESS: at 94.83% examples, 777773 words/s, in_qsize 15, out_qsize 0\n",
      "2023-12-09 17:34:15,615 : INFO : EPOCH 24: training on 8707674 raw words (7513219 effective words) took 9.6s, 782751 effective words/s\n",
      "2023-12-09 17:34:16,647 : INFO : EPOCH 25 - PROGRESS: at 10.35% examples, 774152 words/s, in_qsize 16, out_qsize 0\n",
      "2023-12-09 17:34:17,670 : INFO : EPOCH 25 - PROGRESS: at 21.13% examples, 786103 words/s, in_qsize 14, out_qsize 1\n",
      "2023-12-09 17:34:18,676 : INFO : EPOCH 25 - PROGRESS: at 32.05% examples, 795674 words/s, in_qsize 13, out_qsize 0\n",
      "2023-12-09 17:34:19,664 : INFO : EPOCH 25 - PROGRESS: at 43.04% examples, 803704 words/s, in_qsize 15, out_qsize 0\n",
      "2023-12-09 17:34:20,695 : INFO : EPOCH 25 - PROGRESS: at 54.27% examples, 806781 words/s, in_qsize 14, out_qsize 1\n",
      "2023-12-09 17:34:21,720 : INFO : EPOCH 25 - PROGRESS: at 65.50% examples, 811680 words/s, in_qsize 13, out_qsize 2\n",
      "2023-12-09 17:34:22,768 : INFO : EPOCH 25 - PROGRESS: at 76.53% examples, 808614 words/s, in_qsize 15, out_qsize 1\n",
      "2023-12-09 17:34:23,774 : INFO : EPOCH 25 - PROGRESS: at 87.80% examples, 811672 words/s, in_qsize 14, out_qsize 1\n",
      "2023-12-09 17:34:24,774 : INFO : EPOCH 25 - PROGRESS: at 98.72% examples, 812282 words/s, in_qsize 12, out_qsize 0\n",
      "2023-12-09 17:34:24,882 : INFO : EPOCH 25: training on 8707674 raw words (7514474 effective words) took 9.2s, 813964 effective words/s\n",
      "2023-12-09 17:34:25,932 : INFO : EPOCH 26 - PROGRESS: at 10.23% examples, 747308 words/s, in_qsize 12, out_qsize 3\n",
      "2023-12-09 17:34:26,950 : INFO : EPOCH 26 - PROGRESS: at 21.48% examples, 788488 words/s, in_qsize 12, out_qsize 3\n",
      "2023-12-09 17:34:27,948 : INFO : EPOCH 26 - PROGRESS: at 32.62% examples, 803175 words/s, in_qsize 16, out_qsize 2\n",
      "2023-12-09 17:34:28,954 : INFO : EPOCH 26 - PROGRESS: at 43.95% examples, 815031 words/s, in_qsize 15, out_qsize 2\n",
      "2023-12-09 17:34:29,967 : INFO : EPOCH 26 - PROGRESS: at 54.38% examples, 807682 words/s, in_qsize 15, out_qsize 0\n",
      "2023-12-09 17:34:31,032 : INFO : EPOCH 26 - PROGRESS: at 65.38% examples, 802512 words/s, in_qsize 15, out_qsize 2\n",
      "2023-12-09 17:34:32,035 : INFO : EPOCH 26 - PROGRESS: at 76.07% examples, 802111 words/s, in_qsize 16, out_qsize 1\n",
      "2023-12-09 17:34:33,039 : INFO : EPOCH 26 - PROGRESS: at 87.57% examples, 809148 words/s, in_qsize 15, out_qsize 0\n",
      "2023-12-09 17:34:34,048 : INFO : EPOCH 26 - PROGRESS: at 98.15% examples, 806502 words/s, in_qsize 16, out_qsize 1\n",
      "2023-12-09 17:34:34,174 : INFO : EPOCH 26: training on 8707674 raw words (7513670 effective words) took 9.3s, 810583 effective words/s\n",
      "2023-12-09 17:34:35,217 : INFO : EPOCH 27 - PROGRESS: at 10.12% examples, 740996 words/s, in_qsize 14, out_qsize 1\n",
      "2023-12-09 17:34:36,219 : INFO : EPOCH 27 - PROGRESS: at 21.25% examples, 786584 words/s, in_qsize 16, out_qsize 1\n",
      "2023-12-09 17:34:37,263 : INFO : EPOCH 27 - PROGRESS: at 32.04% examples, 782231 words/s, in_qsize 15, out_qsize 0\n",
      "2023-12-09 17:34:38,274 : INFO : EPOCH 27 - PROGRESS: at 43.16% examples, 794859 words/s, in_qsize 15, out_qsize 0\n",
      "2023-12-09 17:34:39,279 : INFO : EPOCH 27 - PROGRESS: at 53.57% examples, 791917 words/s, in_qsize 14, out_qsize 4\n",
      "2023-12-09 17:34:40,282 : INFO : EPOCH 27 - PROGRESS: at 65.15% examples, 804590 words/s, in_qsize 15, out_qsize 0\n",
      "2023-12-09 17:34:41,325 : INFO : EPOCH 27 - PROGRESS: at 76.53% examples, 806560 words/s, in_qsize 15, out_qsize 0\n",
      "2023-12-09 17:34:42,314 : INFO : EPOCH 27 - PROGRESS: at 87.80% examples, 811020 words/s, in_qsize 14, out_qsize 1\n",
      "2023-12-09 17:34:43,332 : INFO : EPOCH 27 - PROGRESS: at 98.84% examples, 812010 words/s, in_qsize 9, out_qsize 2\n",
      "2023-12-09 17:34:43,385 : INFO : EPOCH 27: training on 8707674 raw words (7513482 effective words) took 9.2s, 817280 effective words/s\n",
      "2023-12-09 17:34:44,421 : INFO : EPOCH 28 - PROGRESS: at 10.12% examples, 754570 words/s, in_qsize 16, out_qsize 0\n",
      "2023-12-09 17:34:45,453 : INFO : EPOCH 28 - PROGRESS: at 20.79% examples, 765783 words/s, in_qsize 15, out_qsize 2\n",
      "2023-12-09 17:34:46,454 : INFO : EPOCH 28 - PROGRESS: at 32.50% examples, 803066 words/s, in_qsize 15, out_qsize 0\n",
      "2023-12-09 17:34:47,463 : INFO : EPOCH 28 - PROGRESS: at 42.93% examples, 795127 words/s, in_qsize 15, out_qsize 4\n",
      "2023-12-09 17:34:48,480 : INFO : EPOCH 28 - PROGRESS: at 54.61% examples, 809650 words/s, in_qsize 15, out_qsize 0\n",
      "2023-12-09 17:34:49,507 : INFO : EPOCH 28 - PROGRESS: at 65.50% examples, 808500 words/s, in_qsize 13, out_qsize 2\n",
      "2023-12-09 17:34:50,561 : INFO : EPOCH 28 - PROGRESS: at 76.30% examples, 802648 words/s, in_qsize 15, out_qsize 2\n",
      "2023-12-09 17:34:51,568 : INFO : EPOCH 28 - PROGRESS: at 87.57% examples, 807140 words/s, in_qsize 15, out_qsize 0\n",
      "2023-12-09 17:34:52,594 : INFO : EPOCH 28 - PROGRESS: at 98.15% examples, 803298 words/s, in_qsize 15, out_qsize 1\n",
      "2023-12-09 17:34:52,712 : INFO : EPOCH 28: training on 8707674 raw words (7512828 effective words) took 9.3s, 808052 effective words/s\n",
      "2023-12-09 17:34:53,749 : INFO : EPOCH 29 - PROGRESS: at 10.58% examples, 782764 words/s, in_qsize 15, out_qsize 1\n",
      "2023-12-09 17:34:54,758 : INFO : EPOCH 29 - PROGRESS: at 21.02% examples, 780350 words/s, in_qsize 16, out_qsize 1\n",
      "2023-12-09 17:34:55,749 : INFO : EPOCH 29 - PROGRESS: at 32.28% examples, 801739 words/s, in_qsize 15, out_qsize 0\n",
      "2023-12-09 17:34:56,749 : INFO : EPOCH 29 - PROGRESS: at 43.61% examples, 813958 words/s, in_qsize 15, out_qsize 0\n",
      "2023-12-09 17:34:57,782 : INFO : EPOCH 29 - PROGRESS: at 54.03% examples, 805131 words/s, in_qsize 16, out_qsize 0\n",
      "2023-12-09 17:34:58,783 : INFO : EPOCH 29 - PROGRESS: at 65.15% examples, 810171 words/s, in_qsize 15, out_qsize 0\n",
      "2023-12-09 17:34:59,819 : INFO : EPOCH 29 - PROGRESS: at 76.30% examples, 809030 words/s, in_qsize 15, out_qsize 0\n",
      "2023-12-09 17:35:00,829 : INFO : EPOCH 29 - PROGRESS: at 87.22% examples, 808805 words/s, in_qsize 15, out_qsize 0\n",
      "2023-12-09 17:35:01,846 : INFO : EPOCH 29 - PROGRESS: at 98.04% examples, 808352 words/s, in_qsize 16, out_qsize 0\n",
      "2023-12-09 17:35:01,986 : INFO : EPOCH 29: training on 8707674 raw words (7512734 effective words) took 9.3s, 812052 effective words/s\n",
      "2023-12-09 17:35:03,016 : INFO : EPOCH 30 - PROGRESS: at 10.35% examples, 771844 words/s, in_qsize 16, out_qsize 0\n",
      "2023-12-09 17:35:04,040 : INFO : EPOCH 30 - PROGRESS: at 21.36% examples, 790396 words/s, in_qsize 14, out_qsize 1\n",
      "2023-12-09 17:35:05,079 : INFO : EPOCH 30 - PROGRESS: at 32.28% examples, 789736 words/s, in_qsize 16, out_qsize 0\n",
      "2023-12-09 17:35:06,086 : INFO : EPOCH 30 - PROGRESS: at 43.49% examples, 802018 words/s, in_qsize 16, out_qsize 0\n",
      "2023-12-09 17:35:07,096 : INFO : EPOCH 30 - PROGRESS: at 53.80% examples, 793774 words/s, in_qsize 14, out_qsize 1\n",
      "2023-12-09 17:35:08,142 : INFO : EPOCH 30 - PROGRESS: at 64.46% examples, 790618 words/s, in_qsize 15, out_qsize 1\n",
      "2023-12-09 17:35:09,157 : INFO : EPOCH 30 - PROGRESS: at 74.92% examples, 788121 words/s, in_qsize 16, out_qsize 2\n",
      "2023-12-09 17:35:10,167 : INFO : EPOCH 30 - PROGRESS: at 86.07% examples, 792753 words/s, in_qsize 15, out_qsize 0\n",
      "2023-12-09 17:35:11,161 : INFO : EPOCH 30 - PROGRESS: at 96.44% examples, 790707 words/s, in_qsize 14, out_qsize 1\n",
      "2023-12-09 17:35:11,459 : INFO : EPOCH 30: training on 8707674 raw words (7513030 effective words) took 9.4s, 795192 effective words/s\n",
      "2023-12-09 17:35:12,509 : INFO : EPOCH 31 - PROGRESS: at 10.58% examples, 773093 words/s, in_qsize 14, out_qsize 1\n",
      "2023-12-09 17:35:13,518 : INFO : EPOCH 31 - PROGRESS: at 21.59% examples, 796358 words/s, in_qsize 16, out_qsize 0\n",
      "2023-12-09 17:35:14,557 : INFO : EPOCH 31 - PROGRESS: at 32.96% examples, 805281 words/s, in_qsize 16, out_qsize 0\n",
      "2023-12-09 17:35:15,565 : INFO : EPOCH 31 - PROGRESS: at 44.53% examples, 816987 words/s, in_qsize 15, out_qsize 0\n",
      "2023-12-09 17:35:16,577 : INFO : EPOCH 31 - PROGRESS: at 55.63% examples, 820080 words/s, in_qsize 14, out_qsize 3\n",
      "2023-12-09 17:35:17,588 : INFO : EPOCH 31 - PROGRESS: at 66.54% examples, 819484 words/s, in_qsize 15, out_qsize 0\n",
      "2023-12-09 17:35:18,608 : INFO : EPOCH 31 - PROGRESS: at 76.07% examples, 802606 words/s, in_qsize 15, out_qsize 0\n",
      "2023-12-09 17:35:19,647 : INFO : EPOCH 31 - PROGRESS: at 86.99% examples, 800058 words/s, in_qsize 16, out_qsize 1\n",
      "2023-12-09 17:35:20,690 : INFO : EPOCH 31 - PROGRESS: at 98.04% examples, 799614 words/s, in_qsize 14, out_qsize 2\n",
      "2023-12-09 17:35:20,812 : INFO : EPOCH 31: training on 8707674 raw words (7514055 effective words) took 9.3s, 805389 effective words/s\n",
      "2023-12-09 17:35:20,815 : INFO : Word2Vec lifecycle event {'msg': 'training on 278645568 raw words (240432633 effective words) took 348.1s, 690792 effective words/s', 'datetime': '2023-12-09T17:35:20.815047', 'gensim': '4.3.2', 'python': '3.11.6 (tags/v3.11.6:8b6ee5b, Oct  2 2023, 14:57:12) [MSC v.1935 64 bit (AMD64)]', 'platform': 'Windows-10-10.0.22631-SP0', 'event': 'train'}\n"
     ]
    },
    {
     "name": "stdout",
     "output_type": "stream",
     "text": [
      "CPU times: total: 20min 24s\n",
      "Wall time: 5min 48s\n"
     ]
    },
    {
     "data": {
      "text/plain": [
       "(240432633, 278645568)"
      ]
     },
     "execution_count": 19,
     "metadata": {},
     "output_type": "execute_result"
    }
   ],
   "source": [
    "%%time\n",
    "w2v_model.train(documents,total_examples=len(documents),epochs=32)"
   ]
  },
  {
   "cell_type": "code",
   "execution_count": 20,
   "id": "3ce3bebf-5020-4a0e-a781-e8e71806138b",
   "metadata": {
    "scrolled": true
   },
   "outputs": [
    {
     "data": {
      "text/plain": [
       "[('luv', 0.5542714595794678),\n",
       " ('loves', 0.546687662601471),\n",
       " ('loved', 0.4942888021469116),\n",
       " ('adore', 0.48959311842918396),\n",
       " ('amazing', 0.489240437746048),\n",
       " ('looove', 0.47780850529670715),\n",
       " ('loveee', 0.4676510691642761),\n",
       " ('lovee', 0.46451428532600403),\n",
       " ('awesome', 0.46364396810531616),\n",
       " ('loooove', 0.4293340742588043)]"
      ]
     },
     "execution_count": 20,
     "metadata": {},
     "output_type": "execute_result"
    }
   ],
   "source": [
    "w2v_model.wv.most_similar(\"love\")"
   ]
  },
  {
   "cell_type": "code",
   "execution_count": 21,
   "id": "a71e85b4-7ddd-42c6-bbab-6e8a4af5b3e9",
   "metadata": {
    "scrolled": true
   },
   "outputs": [
    {
     "name": "stdout",
     "output_type": "stream",
     "text": [
      "Total Words 290240\n",
      "CPU times: total: 13.3 s\n",
      "Wall time: 13.6 s\n"
     ]
    }
   ],
   "source": [
    "%%time\n",
    "\n",
    "\n",
    "tokenizer=Tokenizer()\n",
    "tokenizer.fit_on_texts(df_train.text)\n",
    "vocab_size = len(tokenizer.word_index)+1\n",
    "print(\"Total Words\",vocab_size)"
   ]
  },
  {
   "cell_type": "code",
   "execution_count": 22,
   "id": "18280cc5-a693-4f9f-ab09-d78dffe8961c",
   "metadata": {
    "scrolled": true
   },
   "outputs": [
    {
     "name": "stdout",
     "output_type": "stream",
     "text": [
      "CPU times: total: 21.9 s\n",
      "Wall time: 22.9 s\n"
     ]
    }
   ],
   "source": [
    "%%time\n",
    "X_train = pad_sequences(tokenizer.texts_to_sequences(df_train.text),maxlen=300)\n",
    "X_test = pad_sequences(tokenizer.texts_to_sequences(df_test.text),maxlen=300)"
   ]
  },
  {
   "cell_type": "code",
   "execution_count": 23,
   "id": "c8dcf8bf-9073-4290-b782-ffb6327ccd6e",
   "metadata": {
    "scrolled": true
   },
   "outputs": [
    {
     "name": "stdout",
     "output_type": "stream",
     "text": [
      "['negative', 'positive', 'neutral']\n"
     ]
    }
   ],
   "source": [
    "labels=df.target.unique().tolist()\n",
    "labels.append(\"neutral\")\n",
    "print(labels)"
   ]
  },
  {
   "cell_type": "code",
   "execution_count": 24,
   "id": "53fd01ac-5e78-40fd-bc10-66275846b665",
   "metadata": {
    "scrolled": true
   },
   "outputs": [
    {
     "name": "stdout",
     "output_type": "stream",
     "text": [
      "y_train (1280000, 1)\n",
      "y_test (320000, 1)\n"
     ]
    }
   ],
   "source": [
    "encoder = LabelEncoder()\n",
    "encoder.fit(df_train.target.tolist())\n",
    "\n",
    "Y_train=encoder.transform(df_train.target.tolist())\n",
    "Y_test=encoder.transform(df_test.target.tolist())\n",
    "\n",
    "Y_train=Y_train.reshape(-1,1)\n",
    "Y_test=Y_test.reshape(-1,1)\n",
    "\n",
    "print(\"y_train\",Y_train.shape)\n",
    "print(\"y_test\",Y_test.shape)\n"
   ]
  },
  {
   "cell_type": "code",
   "execution_count": 25,
   "id": "6a0d7375-e18d-4124-aef3-9490d61a2608",
   "metadata": {
    "scrolled": true
   },
   "outputs": [
    {
     "name": "stdout",
     "output_type": "stream",
     "text": [
      "x_train (1280000, 300)\n",
      "y_train (1280000, 1)\n",
      "\n",
      "x_test (320000, 300)\n",
      "y_test (320000, 1)\n"
     ]
    }
   ],
   "source": [
    "print(\"x_train\",X_train.shape)\n",
    "print(\"y_train\",Y_train.shape)\n",
    "print()\n",
    "print(\"x_test\",X_test.shape)\n",
    "print(\"y_test\",Y_test.shape)"
   ]
  },
  {
   "cell_type": "code",
   "execution_count": 26,
   "id": "771fb63e-ac58-4da4-bcfc-7bda651b4e96",
   "metadata": {
    "scrolled": true
   },
   "outputs": [
    {
     "data": {
      "text/plain": [
       "array([[1],\n",
       "       [1],\n",
       "       [1],\n",
       "       [0],\n",
       "       [1],\n",
       "       [1],\n",
       "       [1],\n",
       "       [1],\n",
       "       [1],\n",
       "       [1]])"
      ]
     },
     "execution_count": 26,
     "metadata": {},
     "output_type": "execute_result"
    }
   ],
   "source": [
    "Y_train[:10]"
   ]
  },
  {
   "cell_type": "code",
   "execution_count": 27,
   "id": "b672edf1-deaa-4590-8f6f-92ae58e5782e",
   "metadata": {},
   "outputs": [
    {
     "name": "stdout",
     "output_type": "stream",
     "text": [
      "(290240, 300)\n"
     ]
    }
   ],
   "source": [
    "embedding_matrix = np.zeros((vocab_size,300)) #word to vec size =300\n",
    "for word,i in tokenizer.word_index.items():\n",
    "    if word in w2v_model.wv:\n",
    "        embedding_matrix[i]=w2v_model.wv[word]\n",
    "print(embedding_matrix.shape)"
   ]
  },
  {
   "cell_type": "code",
   "execution_count": 28,
   "id": "4de84605-8bbc-45a9-9188-4eb679f8a642",
   "metadata": {
    "scrolled": true
   },
   "outputs": [
    {
     "name": "stdout",
     "output_type": "stream",
     "text": [
      "WARNING:tensorflow:From C:\\Users\\abhic\\AppData\\Local\\Packages\\PythonSoftwareFoundation.Python.3.11_qbz5n2kfra8p0\\LocalCache\\local-packages\\Python311\\site-packages\\keras\\src\\backend.py:873: The name tf.get_default_graph is deprecated. Please use tf.compat.v1.get_default_graph instead.\n",
      "\n"
     ]
    },
    {
     "name": "stderr",
     "output_type": "stream",
     "text": [
      "2023-12-09 17:36:00,239 : WARNING : From C:\\Users\\abhic\\AppData\\Local\\Packages\\PythonSoftwareFoundation.Python.3.11_qbz5n2kfra8p0\\LocalCache\\local-packages\\Python311\\site-packages\\keras\\src\\backend.py:873: The name tf.get_default_graph is deprecated. Please use tf.compat.v1.get_default_graph instead.\n",
      "\n"
     ]
    }
   ],
   "source": [
    "embedding_layer =Embedding(vocab_size,300,weights=[embedding_matrix],input_length=300,trainable=False)"
   ]
  },
  {
   "cell_type": "code",
   "execution_count": 29,
   "id": "5b44b0e6-36d7-4168-aeb7-e563d602195e",
   "metadata": {
    "scrolled": true
   },
   "outputs": [
    {
     "name": "stdout",
     "output_type": "stream",
     "text": [
      "Model: \"sequential\"\n",
      "_________________________________________________________________\n",
      " Layer (type)                Output Shape              Param #   \n",
      "=================================================================\n",
      " embedding (Embedding)       (None, 300, 300)          87072000  \n",
      "                                                                 \n",
      " dropout (Dropout)           (None, 300, 300)          0         \n",
      "                                                                 \n",
      " lstm (LSTM)                 (None, 100)               160400    \n",
      "                                                                 \n",
      " dense (Dense)               (None, 1)                 101       \n",
      "                                                                 \n",
      "=================================================================\n",
      "Total params: 87232501 (332.77 MB)\n",
      "Trainable params: 160501 (626.96 KB)\n",
      "Non-trainable params: 87072000 (332.15 MB)\n",
      "_________________________________________________________________\n"
     ]
    }
   ],
   "source": [
    "model =Sequential()\n",
    "model.add(embedding_layer)\n",
    "model.add(Dropout(0.5))\n",
    "model.add(LSTM(100,dropout=0.2,recurrent_dropout=0.2))\n",
    "model.add(Dense(1,activation='sigmoid'))\n",
    "\n",
    "model.summary()"
   ]
  },
  {
   "cell_type": "code",
   "execution_count": 30,
   "id": "443be328-1b71-4443-ba6f-7239f6121139",
   "metadata": {
    "scrolled": true
   },
   "outputs": [
    {
     "name": "stdout",
     "output_type": "stream",
     "text": [
      "WARNING:tensorflow:From C:\\Users\\abhic\\AppData\\Local\\Packages\\PythonSoftwareFoundation.Python.3.11_qbz5n2kfra8p0\\LocalCache\\local-packages\\Python311\\site-packages\\keras\\src\\optimizers\\__init__.py:309: The name tf.train.Optimizer is deprecated. Please use tf.compat.v1.train.Optimizer instead.\n",
      "\n"
     ]
    },
    {
     "name": "stderr",
     "output_type": "stream",
     "text": [
      "2023-12-09 17:36:05,081 : WARNING : From C:\\Users\\abhic\\AppData\\Local\\Packages\\PythonSoftwareFoundation.Python.3.11_qbz5n2kfra8p0\\LocalCache\\local-packages\\Python311\\site-packages\\keras\\src\\optimizers\\__init__.py:309: The name tf.train.Optimizer is deprecated. Please use tf.compat.v1.train.Optimizer instead.\n",
      "\n"
     ]
    }
   ],
   "source": [
    "model.compile( \n",
    "loss= 'binary_crossentropy',\n",
    "optimizer=\"adam\",\n",
    "metrics= ['accuracy'])"
   ]
  },
  {
   "cell_type": "code",
   "execution_count": 31,
   "id": "81a7b73e-6812-4f7f-9bd3-194c33ae2d3b",
   "metadata": {},
   "outputs": [],
   "source": [
    "callbacks = [ ReduceLROnPlateau(monitor='val_loss', patience=5, cooldown=0),\n",
    "              EarlyStopping(monitor='val_acc', min_delta=1e-4, patience=5)]"
   ]
  },
  {
   "cell_type": "code",
   "execution_count": 32,
   "id": "99833774-053f-4f08-9331-4baad91e99e4",
   "metadata": {
    "scrolled": true
   },
   "outputs": [
    {
     "name": "stdout",
     "output_type": "stream",
     "text": [
      "Epoch 1/8\n",
      "WARNING:tensorflow:From C:\\Users\\abhic\\AppData\\Local\\Packages\\PythonSoftwareFoundation.Python.3.11_qbz5n2kfra8p0\\LocalCache\\local-packages\\Python311\\site-packages\\keras\\src\\utils\\tf_utils.py:492: The name tf.ragged.RaggedTensorValue is deprecated. Please use tf.compat.v1.ragged.RaggedTensorValue instead.\n",
      "\n"
     ]
    },
    {
     "name": "stderr",
     "output_type": "stream",
     "text": [
      "2023-12-09 17:36:12,330 : WARNING : From C:\\Users\\abhic\\AppData\\Local\\Packages\\PythonSoftwareFoundation.Python.3.11_qbz5n2kfra8p0\\LocalCache\\local-packages\\Python311\\site-packages\\keras\\src\\utils\\tf_utils.py:492: The name tf.ragged.RaggedTensorValue is deprecated. Please use tf.compat.v1.ragged.RaggedTensorValue instead.\n",
      "\n"
     ]
    },
    {
     "name": "stdout",
     "output_type": "stream",
     "text": [
      "WARNING:tensorflow:From C:\\Users\\abhic\\AppData\\Local\\Packages\\PythonSoftwareFoundation.Python.3.11_qbz5n2kfra8p0\\LocalCache\\local-packages\\Python311\\site-packages\\keras\\src\\engine\\base_layer_utils.py:384: The name tf.executing_eagerly_outside_functions is deprecated. Please use tf.compat.v1.executing_eagerly_outside_functions instead.\n",
      "\n"
     ]
    },
    {
     "name": "stderr",
     "output_type": "stream",
     "text": [
      "2023-12-09 17:36:13,372 : WARNING : From C:\\Users\\abhic\\AppData\\Local\\Packages\\PythonSoftwareFoundation.Python.3.11_qbz5n2kfra8p0\\LocalCache\\local-packages\\Python311\\site-packages\\keras\\src\\engine\\base_layer_utils.py:384: The name tf.executing_eagerly_outside_functions is deprecated. Please use tf.compat.v1.executing_eagerly_outside_functions instead.\n",
      "\n"
     ]
    },
    {
     "name": "stdout",
     "output_type": "stream",
     "text": [
      "1125/1125 [==============================] - ETA: 0s - loss: 0.5036 - accuracy: 0.7519WARNING:tensorflow:Early stopping conditioned on metric `val_acc` which is not available. Available metrics are: loss,accuracy,val_loss,val_accuracy,lr\n"
     ]
    },
    {
     "name": "stderr",
     "output_type": "stream",
     "text": [
      "2023-12-09 20:37:31,283 : WARNING : Early stopping conditioned on metric `val_acc` which is not available. Available metrics are: loss,accuracy,val_loss,val_accuracy,lr\n"
     ]
    },
    {
     "name": "stdout",
     "output_type": "stream",
     "text": [
      "1125/1125 [==============================] - 10880s 10s/step - loss: 0.5036 - accuracy: 0.7519 - val_loss: 0.4685 - val_accuracy: 0.7787 - lr: 0.0010\n",
      "Epoch 2/8\n",
      "1125/1125 [==============================] - ETA: 0s - loss: 0.4788 - accuracy: 0.7680WARNING:tensorflow:Early stopping conditioned on metric `val_acc` which is not available. Available metrics are: loss,accuracy,val_loss,val_accuracy,lr\n"
     ]
    },
    {
     "name": "stderr",
     "output_type": "stream",
     "text": [
      "2023-12-09 23:35:45,982 : WARNING : Early stopping conditioned on metric `val_acc` which is not available. Available metrics are: loss,accuracy,val_loss,val_accuracy,lr\n"
     ]
    },
    {
     "name": "stdout",
     "output_type": "stream",
     "text": [
      "1125/1125 [==============================] - 10695s 10s/step - loss: 0.4788 - accuracy: 0.7680 - val_loss: 0.4586 - val_accuracy: 0.7838 - lr: 0.0010\n",
      "Epoch 3/8\n",
      "1125/1125 [==============================] - ETA: 0s - loss: 0.4721 - accuracy: 0.7723WARNING:tensorflow:Early stopping conditioned on metric `val_acc` which is not available. Available metrics are: loss,accuracy,val_loss,val_accuracy,lr\n"
     ]
    },
    {
     "name": "stderr",
     "output_type": "stream",
     "text": [
      "2023-12-10 02:29:13,932 : WARNING : Early stopping conditioned on metric `val_acc` which is not available. Available metrics are: loss,accuracy,val_loss,val_accuracy,lr\n"
     ]
    },
    {
     "name": "stdout",
     "output_type": "stream",
     "text": [
      "1125/1125 [==============================] - 10408s 9s/step - loss: 0.4721 - accuracy: 0.7723 - val_loss: 0.4549 - val_accuracy: 0.7861 - lr: 0.0010\n",
      "Epoch 4/8\n",
      "1125/1125 [==============================] - ETA: 0s - loss: 0.4684 - accuracy: 0.7748WARNING:tensorflow:Early stopping conditioned on metric `val_acc` which is not available. Available metrics are: loss,accuracy,val_loss,val_accuracy,lr\n"
     ]
    },
    {
     "name": "stderr",
     "output_type": "stream",
     "text": [
      "2023-12-10 05:15:27,887 : WARNING : Early stopping conditioned on metric `val_acc` which is not available. Available metrics are: loss,accuracy,val_loss,val_accuracy,lr\n"
     ]
    },
    {
     "name": "stdout",
     "output_type": "stream",
     "text": [
      "1125/1125 [==============================] - 9974s 9s/step - loss: 0.4684 - accuracy: 0.7748 - val_loss: 0.4540 - val_accuracy: 0.7868 - lr: 0.0010\n",
      "Epoch 5/8\n",
      "1125/1125 [==============================] - ETA: 0s - loss: 0.4661 - accuracy: 0.7763WARNING:tensorflow:Early stopping conditioned on metric `val_acc` which is not available. Available metrics are: loss,accuracy,val_loss,val_accuracy,lr\n"
     ]
    },
    {
     "name": "stderr",
     "output_type": "stream",
     "text": [
      "2023-12-10 08:10:19,100 : WARNING : Early stopping conditioned on metric `val_acc` which is not available. Available metrics are: loss,accuracy,val_loss,val_accuracy,lr\n"
     ]
    },
    {
     "name": "stdout",
     "output_type": "stream",
     "text": [
      "1125/1125 [==============================] - 10491s 9s/step - loss: 0.4661 - accuracy: 0.7763 - val_loss: 0.4542 - val_accuracy: 0.7882 - lr: 0.0010\n",
      "Epoch 6/8\n",
      "1125/1125 [==============================] - ETA: 0s - loss: 0.4644 - accuracy: 0.7770WARNING:tensorflow:Early stopping conditioned on metric `val_acc` which is not available. Available metrics are: loss,accuracy,val_loss,val_accuracy,lr\n"
     ]
    },
    {
     "name": "stderr",
     "output_type": "stream",
     "text": [
      "2023-12-10 11:01:58,347 : WARNING : Early stopping conditioned on metric `val_acc` which is not available. Available metrics are: loss,accuracy,val_loss,val_accuracy,lr\n"
     ]
    },
    {
     "name": "stdout",
     "output_type": "stream",
     "text": [
      "1125/1125 [==============================] - 10299s 9s/step - loss: 0.4644 - accuracy: 0.7770 - val_loss: 0.4503 - val_accuracy: 0.7891 - lr: 0.0010\n",
      "Epoch 7/8\n",
      "1125/1125 [==============================] - ETA: 0s - loss: 0.4629 - accuracy: 0.7784WARNING:tensorflow:Early stopping conditioned on metric `val_acc` which is not available. Available metrics are: loss,accuracy,val_loss,val_accuracy,lr\n"
     ]
    },
    {
     "name": "stderr",
     "output_type": "stream",
     "text": [
      "2023-12-10 13:59:00,439 : WARNING : Early stopping conditioned on metric `val_acc` which is not available. Available metrics are: loss,accuracy,val_loss,val_accuracy,lr\n"
     ]
    },
    {
     "name": "stdout",
     "output_type": "stream",
     "text": [
      "1125/1125 [==============================] - 10622s 9s/step - loss: 0.4629 - accuracy: 0.7784 - val_loss: 0.4493 - val_accuracy: 0.7896 - lr: 0.0010\n",
      "Epoch 8/8\n",
      "1125/1125 [==============================] - ETA: 0s - loss: 0.4615 - accuracy: 0.7793WARNING:tensorflow:Early stopping conditioned on metric `val_acc` which is not available. Available metrics are: loss,accuracy,val_loss,val_accuracy,lr\n"
     ]
    },
    {
     "name": "stderr",
     "output_type": "stream",
     "text": [
      "2023-12-10 17:00:37,928 : WARNING : Early stopping conditioned on metric `val_acc` which is not available. Available metrics are: loss,accuracy,val_loss,val_accuracy,lr\n"
     ]
    },
    {
     "name": "stdout",
     "output_type": "stream",
     "text": [
      "1125/1125 [==============================] - 10897s 10s/step - loss: 0.4615 - accuracy: 0.7793 - val_loss: 0.4498 - val_accuracy: 0.7895 - lr: 0.0010\n",
      "CPU times: total: 3d 2h 33min 47s\n",
      "Wall time: 23h 24min 32s\n"
     ]
    }
   ],
   "source": [
    "%%time\n",
    "history = model.fit(X_train, Y_train,\n",
    "                    batch_size=1024,\n",
    "                    epochs=8,\n",
    "                    validation_split=0.1,\n",
    "                    verbose=1,\n",
    "                    callbacks=callbacks)"
   ]
  },
  {
   "cell_type": "code",
   "execution_count": 35,
   "id": "f7e065a5-a465-4611-8ee8-e9bba96434d2",
   "metadata": {
    "scrolled": true
   },
   "outputs": [
    {
     "name": "stdout",
     "output_type": "stream",
     "text": [
      "313/313 [==============================] - 468s 1s/step - loss: 0.4478 - accuracy: 0.7904\n",
      "\n",
      "Accuracy :  0.7904468774795532\n",
      "Loss :  0.4478282332420349\n",
      "CPU times: total: 28min 7s\n",
      "Wall time: 7min 49s\n"
     ]
    }
   ],
   "source": [
    "%%time \n",
    "score = model.evaluate(X_test,Y_test,batch_size=1024)\n",
    "print()\n",
    "print(\"Accuracy : \",score[1])\n",
    "print(\"Loss : \",score[0])\n"
   ]
  },
  {
   "cell_type": "code",
   "execution_count": 39,
   "id": "1cf7435b-38ed-4995-8b63-309dd4d71f8f",
   "metadata": {
    "scrolled": true
   },
   "outputs": [
    {
     "data": {
      "image/png": "[encoded data removed]",
      "text/plain": [
       "<Figure size 640x480 with 1 Axes>"
      ]
     },
     "metadata": {},
     "output_type": "display_data"
    },
    {
     "data": {
      "image/png": "[encoded data removed]",
      "text/plain": [
       "<Figure size 640x480 with 1 Axes>"
      ]
     },
     "metadata": {},
     "output_type": "display_data"
    }
   ],
   "source": [
    "acc=history.history['accuracy']\n",
    "val_acc=history.history['val_accuracy']\n",
    "loss = history.history['loss']\n",
    "val_loss = history.history['val_loss']\n",
    "\n",
    "epochs=range(len(acc))\n",
    "\n",
    "plt.plot(epochs,acc,'b',label='Training acc')\n",
    "plt.plot(epochs,val_acc,'r',label='Validation acc')\n",
    "plt.title('Training and validation accuracy')\n",
    "plt.legend()\n",
    "\n",
    "plt.figure()\n",
    "\n",
    "plt.plot(epochs,loss,'b',label='Training loss')\n",
    "plt.plot(epochs,val_loss,'r',label='validation loss')\n",
    "plt.title('Training and validation loss')\n",
    "plt.legend()\n",
    "\n",
    "\n",
    "plt.show()"
   ]
  },
  {
   "cell_type": "code",
   "execution_count": 40,
   "id": "4874f54c-0ff2-4b90-acb3-fa40399d66fc",
   "metadata": {},
   "outputs": [],
   "source": [
    "def decode_sentiment(score,include_neutral=True):\n",
    "    if include_neutral:\n",
    "        label = \"neutral\"\n",
    "        if score <= 0.4:\n",
    "            label = \"negative\"\n",
    "        elif score >=0.7:\n",
    "            label = \"positive\"\n",
    "\n",
    "        return label\n",
    "    \n",
    "    else:\n",
    "        return \"negative\" if score<0.5 else \"positive\"\n",
    "        "
   ]
  },
  {
   "cell_type": "code",
   "execution_count": 49,
   "id": "4f374d30-fc50-4ba3-be7c-066e6b1ee595",
   "metadata": {},
   "outputs": [],
   "source": [
    "def predict(text,include_neutral=True):\n",
    "    start_at = time.time()\n",
    "    x_test = pad_sequences(tokenizer.texts_to_sequences([text]),maxlen=300)\n",
    "    score=model.predict([x_test])[0]\n",
    "    label=decode_sentiment(score,include_neutral=include_neutral)\n",
    "    return {\"label\":label,\"score\":float(score),\"elapsed_time\":time.time()-start_at}"
   ]
  },
  {
   "cell_type": "code",
   "execution_count": 50,
   "id": "ddf49f87-f42c-4706-9164-adbe8b767f9d",
   "metadata": {
    "scrolled": true
   },
   "outputs": [
    {
     "name": "stdout",
     "output_type": "stream",
     "text": [
      "1/1 [==============================] - 0s 80ms/step\n"
     ]
    },
    {
     "name": "stderr",
     "output_type": "stream",
     "text": [
      "C:\\Users\\abhic\\AppData\\Local\\Temp\\ipykernel_19164\\4211083424.py:6: DeprecationWarning: Conversion of an array with ndim > 0 to a scalar is deprecated, and will error in future. Ensure you extract a single element from your array before performing this operation. (Deprecated NumPy 1.25.)\n",
      "  return {\"label\":label,\"score\":float(score),\"elapsed_time\":time.time()-start_at}\n"
     ]
    },
    {
     "data": {
      "text/plain": [
       "{'label': 'positive',\n",
       " 'score': 0.9307434558868408,\n",
       " 'elapsed_time': 0.14721345901489258}"
      ]
     },
     "execution_count": 50,
     "metadata": {},
     "output_type": "execute_result"
    }
   ],
   "source": [
    "predict(\"I love cheese\")"
   ]
  },
  {
   "cell_type": "code",
   "execution_count": 51,
   "id": "dafdf3c0-2e8b-4702-81bc-107d0a8aca86",
   "metadata": {
    "scrolled": true
   },
   "outputs": [
    {
     "name": "stdout",
     "output_type": "stream",
     "text": [
      "1/1 [==============================] - 0s 70ms/step\n"
     ]
    },
    {
     "name": "stderr",
     "output_type": "stream",
     "text": [
      "C:\\Users\\abhic\\AppData\\Local\\Temp\\ipykernel_19164\\4211083424.py:6: DeprecationWarning: Conversion of an array with ndim > 0 to a scalar is deprecated, and will error in future. Ensure you extract a single element from your array before performing this operation. (Deprecated NumPy 1.25.)\n",
      "  return {\"label\":label,\"score\":float(score),\"elapsed_time\":time.time()-start_at}\n"
     ]
    },
    {
     "data": {
      "text/plain": [
       "{'label': 'negative',\n",
       " 'score': 0.03735740855336189,\n",
       " 'elapsed_time': 0.1318049430847168}"
      ]
     },
     "execution_count": 51,
     "metadata": {},
     "output_type": "execute_result"
    }
   ],
   "source": [
    "predict(\"I hate eggs\")"
   ]
  },
  {
   "cell_type": "code",
   "execution_count": 52,
   "id": "a9713c3f-9dae-46f1-803a-f5a3cf8ced9d",
   "metadata": {
    "scrolled": true
   },
   "outputs": [
    {
     "name": "stdout",
     "output_type": "stream",
     "text": [
      "1/1 [==============================] - 0s 70ms/step\n"
     ]
    },
    {
     "name": "stderr",
     "output_type": "stream",
     "text": [
      "C:\\Users\\abhic\\AppData\\Local\\Temp\\ipykernel_19164\\4211083424.py:6: DeprecationWarning: Conversion of an array with ndim > 0 to a scalar is deprecated, and will error in future. Ensure you extract a single element from your array before performing this operation. (Deprecated NumPy 1.25.)\n",
      "  return {\"label\":label,\"score\":float(score),\"elapsed_time\":time.time()-start_at}\n"
     ]
    },
    {
     "data": {
      "text/plain": [
       "{'label': 'positive',\n",
       " 'score': 0.8859193325042725,\n",
       " 'elapsed_time': 0.13891339302062988}"
      ]
     },
     "execution_count": 52,
     "metadata": {},
     "output_type": "execute_result"
    }
   ],
   "source": [
    "predict(\"but i love chicken\")"
   ]
  },
  {
   "cell_type": "code",
   "execution_count": 54,
   "id": "f5118245-f460-4ea9-bc9d-e6d2e94073eb",
   "metadata": {
    "scrolled": true
   },
   "outputs": [
    {
     "name": "stdout",
     "output_type": "stream",
     "text": [
      "40/40 [==============================] - 851s 21s/step\n",
      "CPU times: total: 50min 3s\n",
      "Wall time: 14min 12s\n"
     ]
    }
   ],
   "source": [
    "%%time\n",
    "y_pred_1d=[]\n",
    "y_test_1d=list(df_test.target)\n",
    "scores=model.predict(X_test,verbose=1,batch_size=8000)\n",
    "y_pred_1d=[decode_sentiment(score, include_neutral=False) for score in scores]"
   ]
  },
  {
   "cell_type": "code",
   "execution_count": 57,
   "id": "ebdc125e-890c-43c9-b8d4-25ecb00d9997",
   "metadata": {},
   "outputs": [],
   "source": [
    "def plot_confusion_matrix(cm,classes,title='confusion matrix',cmap=plt.cm.Blues):\n",
    "    cm = cm.astype('float')/cm.sum(axis=1)[:,np.newaxis]\n",
    "\n",
    "    plt.imshow(cm,interpolation='nearest',cmap=cmap)\n",
    "    plt.title(title, fontsize=30)\n",
    "    plt.colorbar()\n",
    "    tick_marks = np.arange(len(classes))\n",
    "    plt.xticks(tick_marks, classes, rotation=90, fontsize=22)\n",
    "    plt.yticks(tick_marks, classes, fontsize=22)\n",
    "\n",
    "    fmt = '.2f'\n",
    "    thresh = cm.max() / 2.\n",
    "    for i, j in itertools.product(range(cm.shape[0]), range(cm.shape[1])):\n",
    "        plt.text(j, i, format(cm[i, j], fmt),\n",
    "                 horizontalalignment=\"center\",\n",
    "                 color=\"white\" if cm[i, j] > thresh else \"black\")\n",
    "\n",
    "    plt.ylabel('True label', fontsize=25)\n",
    "    plt.xlabel('Predicted label', fontsize=25)"
   ]
  },
  {
   "cell_type": "code",
   "execution_count": 58,
   "id": "f9a69ac9-9c23-4917-9c5f-a1d5eb5eedd9",
   "metadata": {
    "scrolled": true
   },
   "outputs": [
    {
     "data": {
      "image/png": "[encoded data removed]",
      "text/plain": [
       "<Figure size 1200x1200 with 2 Axes>"
      ]
     },
     "metadata": {},
     "output_type": "display_data"
    },
    {
     "name": "stdout",
     "output_type": "stream",
     "text": [
      "CPU times: total: 1.19 s\n",
      "Wall time: 1.47 s\n"
     ]
    }
   ],
   "source": [
    "%%time\n",
    "\n",
    "cnf_matrix = confusion_matrix(y_test_1d, y_pred_1d)\n",
    "plt.figure(figsize=(12,12))\n",
    "plot_confusion_matrix(cnf_matrix, classes=df_train.target.unique(), title=\"Confusion matrix\")\n",
    "plt.show()"
   ]
  },
  {
   "cell_type": "code",
   "execution_count": 59,
   "id": "22a087db-89d1-40ed-8a93-e289139a2148",
   "metadata": {
    "scrolled": true
   },
   "outputs": [
    {
     "name": "stdout",
     "output_type": "stream",
     "text": [
      "              precision    recall  f1-score   support\n",
      "\n",
      "    negative       0.80      0.78      0.79    159494\n",
      "    positive       0.78      0.80      0.79    160506\n",
      "\n",
      "    accuracy                           0.79    320000\n",
      "   macro avg       0.79      0.79      0.79    320000\n",
      "weighted avg       0.79      0.79      0.79    320000\n",
      "\n"
     ]
    }
   ],
   "source": [
    "print(classification_report(y_test_1d, y_pred_1d))"
   ]
  },
  {
   "cell_type": "code",
   "execution_count": 60,
   "id": "83923ab3-ff4f-4086-adcb-ae098b2bc3ff",
   "metadata": {},
   "outputs": [
    {
     "data": {
      "text/plain": [
       "0.790446875"
      ]
     },
     "execution_count": 60,
     "metadata": {},
     "output_type": "execute_result"
    }
   ],
   "source": [
    "accuracy_score(y_test_1d, y_pred_1d)"
   ]
  },
  {
   "cell_type": "code",
   "execution_count": 62,
   "id": "172d65bc-2e43-4c09-a248-fd5157425401",
   "metadata": {
    "scrolled": true
   },
   "outputs": [
    {
     "name": "stderr",
     "output_type": "stream",
     "text": [
      "C:\\Users\\abhic\\AppData\\Local\\Packages\\PythonSoftwareFoundation.Python.3.11_qbz5n2kfra8p0\\LocalCache\\local-packages\\Python311\\site-packages\\keras\\src\\engine\\training.py:3103: UserWarning: You are saving your model as an HDF5 file via `model.save()`. This file format is considered legacy. We recommend using instead the native Keras format, e.g. `model.save('my_model.keras')`.\n",
      "  saving_api.save_model(\n",
      "2023-12-10 17:32:08,420 : INFO : Word2Vec lifecycle event {'fname_or_handle': 'model.w2v', 'separately': 'None', 'sep_limit': 10485760, 'ignore': frozenset(), 'datetime': '2023-12-10T17:32:08.418847', 'gensim': '4.3.2', 'python': '3.11.6 (tags/v3.11.6:8b6ee5b, Oct  2 2023, 14:57:12) [MSC v.1935 64 bit (AMD64)]', 'platform': 'Windows-10-10.0.22631-SP0', 'event': 'saving'}\n",
      "2023-12-10 17:32:08,437 : INFO : not storing attribute cum_table\n",
      "2023-12-10 17:32:09,223 : INFO : saved model.w2v\n"
     ]
    }
   ],
   "source": [
    "KERAS_MODEL = \"model.h5\"\n",
    "WORD2VEC_MODEL=\"model.w2v\"\n",
    "TOKENIZER_MODEL=\"tokenizer.pkl\"\n",
    "ENCODER_MODEL=\"encoder.pkl\"\n",
    "model.save(KERAS_MODEL)\n",
    "w2v_model.save(WORD2VEC_MODEL)\n",
    "pickle.dump(tokenizer, open(TOKENIZER_MODEL, \"wb\"), protocol=0)\n",
    "pickle.dump(encoder, open(ENCODER_MODEL, \"wb\"), protocol=0)"
   ]
  }
 ],
 "metadata": {
  "kernelspec": {
   "display_name": "Python 3 (ipykernel)",
   "language": "python",
   "name": "python3"
  },
  "language_info": {
   "codemirror_mode": {
    "name": "ipython",
    "version": 3
   },
   "file_extension": ".py",
   "mimetype": "text/x-python",
   "name": "python",
   "nbconvert_exporter": "python",
   "pygments_lexer": "ipython3",
   "version": "3.11.6"
  }
 },
 "nbformat": 4,
 "nbformat_minor": 5
}
